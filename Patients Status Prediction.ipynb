{
 "cells": [
  {
   "cell_type": "markdown",
   "metadata": {},
   "source": [
    "# Disease Status Prediction Based on patients informations and lab test data"
   ]
  },
  {
   "cell_type": "markdown",
   "metadata": {},
   "source": [
    "# Import neccesary Packages"
   ]
  },
  {
   "cell_type": "code",
   "execution_count": 1,
   "metadata": {},
   "outputs": [],
   "source": [
    "import pandas as Pd\n",
    "import numpy as np\n",
    "import matplotlib.pyplot as plt\n",
    "import re\n",
    "import seaborn as sns\n",
    "import sklearn as sk\n",
    "# allow plots to appear within the notebook\n",
    "%matplotlib inline"
   ]
  },
  {
   "cell_type": "markdown",
   "metadata": {},
   "source": [
    "# Reading dataset using pandas"
   ]
  },
  {
   "cell_type": "code",
   "execution_count": 2,
   "metadata": {},
   "outputs": [],
   "source": [
    "# read CSV file from the files in the same folder\n",
    "admin_site1 = Pd.read_csv(\"administrative_site1.csv\")\n",
    "admin_site2 = Pd.read_csv(\"administrative_site2.csv\")\n",
    "lab = Pd.read_csv(\"lab.csv\")"
   ]
  },
  {
   "cell_type": "markdown",
   "metadata": {},
   "source": [
    "Checking out each adatbase features"
   ]
  },
  {
   "cell_type": "code",
   "execution_count": 3,
   "metadata": {},
   "outputs": [
    {
     "data": {
      "text/plain": [
       "Index(['ID', 'admission_date', 'admission_time', 'discharge_date',\n",
       "       'discharge_time', 'hospital_ID', 'gender', 'age', 'disease_status'],\n",
       "      dtype='object')"
      ]
     },
     "execution_count": 3,
     "metadata": {},
     "output_type": "execute_result"
    }
   ],
   "source": [
    "admin_site1.columns"
   ]
  },
  {
   "cell_type": "code",
   "execution_count": 4,
   "metadata": {},
   "outputs": [
    {
     "data": {
      "text/plain": [
       "Index(['subjectid', 'admission.date', 'admission.time', 'discharge.date',\n",
       "       'discharge.time', 'hospital', 'gender', 'age', 'disease.status'],\n",
       "      dtype='object')"
      ]
     },
     "execution_count": 4,
     "metadata": {},
     "output_type": "execute_result"
    }
   ],
   "source": [
    "admin_site2.columns"
   ]
  },
  {
   "cell_type": "markdown",
   "metadata": {},
   "source": [
    "# Craete one dataframe combining all data"
   ]
  },
  {
   "cell_type": "markdown",
   "metadata": {},
   "source": [
    "As you see although the order of columns are the same, the exact names are diffrent and we need to take care of that"
   ]
  },
  {
   "cell_type": "code",
   "execution_count": 5,
   "metadata": {},
   "outputs": [],
   "source": [
    "admin = Pd.concat([admin_site1,admin_site2.rename(columns=dict(zip(admin_site2.columns,admin_site1.columns)))], ignore_index=True)"
   ]
  },
  {
   "cell_type": "code",
   "execution_count": 6,
   "metadata": {},
   "outputs": [
    {
     "data": {
      "text/plain": [
       "Index(['ID', 'admission_date', 'admission_time', 'discharge_date',\n",
       "       'discharge_time', 'hospital_ID', 'gender', 'age', 'disease_status'],\n",
       "      dtype='object')"
      ]
     },
     "execution_count": 6,
     "metadata": {},
     "output_type": "execute_result"
    }
   ],
   "source": [
    "admin.columns"
   ]
  },
  {
   "cell_type": "code",
   "execution_count": 7,
   "metadata": {},
   "outputs": [
    {
     "data": {
      "text/html": [
       "<div>\n",
       "<style scoped>\n",
       "    .dataframe tbody tr th:only-of-type {\n",
       "        vertical-align: middle;\n",
       "    }\n",
       "\n",
       "    .dataframe tbody tr th {\n",
       "        vertical-align: top;\n",
       "    }\n",
       "\n",
       "    .dataframe thead th {\n",
       "        text-align: right;\n",
       "    }\n",
       "</style>\n",
       "<table border=\"1\" class=\"dataframe\">\n",
       "  <thead>\n",
       "    <tr style=\"text-align: right;\">\n",
       "      <th></th>\n",
       "      <th>ID</th>\n",
       "      <th>admission_date</th>\n",
       "      <th>admission_time</th>\n",
       "      <th>discharge_date</th>\n",
       "      <th>discharge_time</th>\n",
       "      <th>hospital_ID</th>\n",
       "      <th>gender</th>\n",
       "      <th>age</th>\n",
       "      <th>disease_status</th>\n",
       "    </tr>\n",
       "  </thead>\n",
       "  <tbody>\n",
       "    <tr>\n",
       "      <th>0</th>\n",
       "      <td>1003</td>\n",
       "      <td>2002-04-25</td>\n",
       "      <td>07:47</td>\n",
       "      <td>05/08/2002</td>\n",
       "      <td>12:02</td>\n",
       "      <td>St. Joseph's Health Centre</td>\n",
       "      <td>F</td>\n",
       "      <td>NaN</td>\n",
       "      <td>0</td>\n",
       "    </tr>\n",
       "    <tr>\n",
       "      <th>1</th>\n",
       "      <td>1008</td>\n",
       "      <td>2004-09-02</td>\n",
       "      <td>07:49</td>\n",
       "      <td>02/01/2005</td>\n",
       "      <td>10:07</td>\n",
       "      <td>St. Michael's Hospital</td>\n",
       "      <td>M</td>\n",
       "      <td>58.0</td>\n",
       "      <td>0</td>\n",
       "    </tr>\n",
       "    <tr>\n",
       "      <th>2</th>\n",
       "      <td>1009</td>\n",
       "      <td>2011-01-01</td>\n",
       "      <td>17:08</td>\n",
       "      <td>06/26/2011</td>\n",
       "      <td>08:16</td>\n",
       "      <td>St. Michael's Hospital</td>\n",
       "      <td>NaN</td>\n",
       "      <td>NaN</td>\n",
       "      <td>1</td>\n",
       "    </tr>\n",
       "    <tr>\n",
       "      <th>3</th>\n",
       "      <td>1019</td>\n",
       "      <td>2000-03-09</td>\n",
       "      <td>10:15</td>\n",
       "      <td>05/29/2000</td>\n",
       "      <td>22:38</td>\n",
       "      <td>St. Michael's Hospital</td>\n",
       "      <td>M</td>\n",
       "      <td>NaN</td>\n",
       "      <td>1</td>\n",
       "    </tr>\n",
       "    <tr>\n",
       "      <th>4</th>\n",
       "      <td>1030</td>\n",
       "      <td>2003-11-18</td>\n",
       "      <td>08:31</td>\n",
       "      <td>01/28/2004</td>\n",
       "      <td>13:21</td>\n",
       "      <td>St. Michael's Hospital</td>\n",
       "      <td>F</td>\n",
       "      <td>72.0</td>\n",
       "      <td>0</td>\n",
       "    </tr>\n",
       "  </tbody>\n",
       "</table>\n",
       "</div>"
      ],
      "text/plain": [
       "     ID admission_date admission_time discharge_date discharge_time  \\\n",
       "0  1003     2002-04-25          07:47     05/08/2002          12:02   \n",
       "1  1008     2004-09-02          07:49     02/01/2005          10:07   \n",
       "2  1009     2011-01-01          17:08     06/26/2011          08:16   \n",
       "3  1019     2000-03-09          10:15     05/29/2000          22:38   \n",
       "4  1030     2003-11-18          08:31     01/28/2004          13:21   \n",
       "\n",
       "                  hospital_ID gender   age  disease_status  \n",
       "0  St. Joseph's Health Centre      F   NaN               0  \n",
       "1      St. Michael's Hospital      M  58.0               0  \n",
       "2      St. Michael's Hospital    NaN   NaN               1  \n",
       "3      St. Michael's Hospital      M   NaN               1  \n",
       "4      St. Michael's Hospital      F  72.0               0  "
      ]
     },
     "execution_count": 7,
     "metadata": {},
     "output_type": "execute_result"
    }
   ],
   "source": [
    "admin.head(5)"
   ]
  },
  {
   "cell_type": "markdown",
   "metadata": {},
   "source": [
    "# Compare length of stay for each hospital"
   ]
  },
  {
   "cell_type": "markdown",
   "metadata": {},
   "source": [
    "Create a new length_of_stay variable as defined as discharge date minus admission date"
   ]
  },
  {
   "cell_type": "code",
   "execution_count": 8,
   "metadata": {},
   "outputs": [],
   "source": [
    "admin[\"discharge_date\"] = Pd.to_datetime(admin[\"discharge_date\"])\n",
    "admin[\"admission_date\"] = Pd.to_datetime(admin[\"admission_date\"])"
   ]
  },
  {
   "cell_type": "code",
   "execution_count": 9,
   "metadata": {},
   "outputs": [],
   "source": [
    "admin[\"length_of_stay\"] = (admin[\"discharge_date\"]-admin[\"admission_date\"]).dt.days"
   ]
  },
  {
   "cell_type": "code",
   "execution_count": 10,
   "metadata": {},
   "outputs": [
    {
     "data": {
      "text/html": [
       "<div>\n",
       "<style scoped>\n",
       "    .dataframe tbody tr th:only-of-type {\n",
       "        vertical-align: middle;\n",
       "    }\n",
       "\n",
       "    .dataframe tbody tr th {\n",
       "        vertical-align: top;\n",
       "    }\n",
       "\n",
       "    .dataframe thead th {\n",
       "        text-align: right;\n",
       "    }\n",
       "</style>\n",
       "<table border=\"1\" class=\"dataframe\">\n",
       "  <thead>\n",
       "    <tr style=\"text-align: right;\">\n",
       "      <th></th>\n",
       "      <th>ID</th>\n",
       "      <th>admission_date</th>\n",
       "      <th>admission_time</th>\n",
       "      <th>discharge_date</th>\n",
       "      <th>discharge_time</th>\n",
       "      <th>hospital_ID</th>\n",
       "      <th>gender</th>\n",
       "      <th>age</th>\n",
       "      <th>disease_status</th>\n",
       "      <th>length_of_stay</th>\n",
       "    </tr>\n",
       "  </thead>\n",
       "  <tbody>\n",
       "    <tr>\n",
       "      <th>0</th>\n",
       "      <td>1003</td>\n",
       "      <td>2002-04-25</td>\n",
       "      <td>07:47</td>\n",
       "      <td>2002-05-08</td>\n",
       "      <td>12:02</td>\n",
       "      <td>St. Joseph's Health Centre</td>\n",
       "      <td>F</td>\n",
       "      <td>NaN</td>\n",
       "      <td>0</td>\n",
       "      <td>13</td>\n",
       "    </tr>\n",
       "    <tr>\n",
       "      <th>1</th>\n",
       "      <td>1008</td>\n",
       "      <td>2004-09-02</td>\n",
       "      <td>07:49</td>\n",
       "      <td>2005-02-01</td>\n",
       "      <td>10:07</td>\n",
       "      <td>St. Michael's Hospital</td>\n",
       "      <td>M</td>\n",
       "      <td>58.0</td>\n",
       "      <td>0</td>\n",
       "      <td>152</td>\n",
       "    </tr>\n",
       "    <tr>\n",
       "      <th>2</th>\n",
       "      <td>1009</td>\n",
       "      <td>2011-01-01</td>\n",
       "      <td>17:08</td>\n",
       "      <td>2011-06-26</td>\n",
       "      <td>08:16</td>\n",
       "      <td>St. Michael's Hospital</td>\n",
       "      <td>NaN</td>\n",
       "      <td>NaN</td>\n",
       "      <td>1</td>\n",
       "      <td>176</td>\n",
       "    </tr>\n",
       "    <tr>\n",
       "      <th>3</th>\n",
       "      <td>1019</td>\n",
       "      <td>2000-03-09</td>\n",
       "      <td>10:15</td>\n",
       "      <td>2000-05-29</td>\n",
       "      <td>22:38</td>\n",
       "      <td>St. Michael's Hospital</td>\n",
       "      <td>M</td>\n",
       "      <td>NaN</td>\n",
       "      <td>1</td>\n",
       "      <td>81</td>\n",
       "    </tr>\n",
       "    <tr>\n",
       "      <th>4</th>\n",
       "      <td>1030</td>\n",
       "      <td>2003-11-18</td>\n",
       "      <td>08:31</td>\n",
       "      <td>2004-01-28</td>\n",
       "      <td>13:21</td>\n",
       "      <td>St. Michael's Hospital</td>\n",
       "      <td>F</td>\n",
       "      <td>72.0</td>\n",
       "      <td>0</td>\n",
       "      <td>71</td>\n",
       "    </tr>\n",
       "  </tbody>\n",
       "</table>\n",
       "</div>"
      ],
      "text/plain": [
       "     ID admission_date admission_time discharge_date discharge_time  \\\n",
       "0  1003     2002-04-25          07:47     2002-05-08          12:02   \n",
       "1  1008     2004-09-02          07:49     2005-02-01          10:07   \n",
       "2  1009     2011-01-01          17:08     2011-06-26          08:16   \n",
       "3  1019     2000-03-09          10:15     2000-05-29          22:38   \n",
       "4  1030     2003-11-18          08:31     2004-01-28          13:21   \n",
       "\n",
       "                  hospital_ID gender   age  disease_status  length_of_stay  \n",
       "0  St. Joseph's Health Centre      F   NaN               0              13  \n",
       "1      St. Michael's Hospital      M  58.0               0             152  \n",
       "2      St. Michael's Hospital    NaN   NaN               1             176  \n",
       "3      St. Michael's Hospital      M   NaN               1              81  \n",
       "4      St. Michael's Hospital      F  72.0               0              71  "
      ]
     },
     "execution_count": 10,
     "metadata": {},
     "output_type": "execute_result"
    }
   ],
   "source": [
    "admin.head(5)"
   ]
  },
  {
   "cell_type": "markdown",
   "metadata": {},
   "source": [
    "Calculate the mean length_of_stay for each hospital."
   ]
  },
  {
   "cell_type": "code",
   "execution_count": 11,
   "metadata": {},
   "outputs": [
    {
     "data": {
      "text/plain": [
       "hospital_ID\n",
       "Mount Sinai Hospital                  99.927273\n",
       "St. Joseph's Health Centre            93.117391\n",
       "St. Michael's Hospital               102.226212\n",
       "Sunnybrook Health Sciences Centre     97.604288\n",
       "Toronto Western Hospital             100.878378\n",
       "Name: length_of_stay, dtype: float64"
      ]
     },
     "execution_count": 11,
     "metadata": {},
     "output_type": "execute_result"
    }
   ],
   "source": [
    "len_stay=admin.groupby([\"hospital_ID\"]).mean()[\"length_of_stay\"]\n",
    "len_stay"
   ]
  },
  {
   "cell_type": "code",
   "execution_count": 12,
   "metadata": {},
   "outputs": [
    {
     "data": {
      "text/plain": [
       "[99.92727272727272,\n",
       " 93.11739130434782,\n",
       " 102.2262118491921,\n",
       " 97.60428849902534,\n",
       " 100.87837837837837]"
      ]
     },
     "execution_count": 12,
     "metadata": {},
     "output_type": "execute_result"
    }
   ],
   "source": [
    "len_stay.tolist()"
   ]
  },
  {
   "cell_type": "code",
   "execution_count": 13,
   "metadata": {},
   "outputs": [
    {
     "data": {
      "text/plain": [
       "['Mount Sinai Hospital',\n",
       " \"St. Joseph's Health Centre\",\n",
       " \"St. Michael's Hospital\",\n",
       " 'Sunnybrook Health Sciences Centre',\n",
       " 'Toronto Western Hospital']"
      ]
     },
     "execution_count": 13,
     "metadata": {},
     "output_type": "execute_result"
    }
   ],
   "source": [
    "len_stay.index.tolist()"
   ]
  },
  {
   "cell_type": "code",
   "execution_count": 14,
   "metadata": {},
   "outputs": [
    {
     "data": {
      "image/png": "[encoded data removed]",
      "text/plain": [
       "<Figure size 432x288 with 1 Axes>"
      ]
     },
     "metadata": {
      "needs_background": "light"
     },
     "output_type": "display_data"
    }
   ],
   "source": [
    "fig = plt.figure()\n",
    "ax = fig.add_axes([0,0,2,1])\n",
    "hospitals = len_stay.index.tolist()\n",
    "length_of_stay = len_stay.tolist()\n",
    "ax.bar(hospitals,length_of_stay)\n",
    "plt.show()"
   ]
  },
  {
   "cell_type": "markdown",
   "metadata": {},
   "source": [
    "# Join admin dataset with lab datset to have acces to the information of lab tests og each patients"
   ]
  },
  {
   "cell_type": "markdown",
   "metadata": {},
   "source": [
    "checking out lab dataset features"
   ]
  },
  {
   "cell_type": "code",
   "execution_count": 109,
   "metadata": {},
   "outputs": [
    {
     "data": {
      "text/plain": [
       "Index(['ID', 'test_name', 'test_code', 'result_unit', 'result_value',\n",
       "       'result_date', 'result_time', 'provider_name'],\n",
       "      dtype='object')"
      ]
     },
     "execution_count": 109,
     "metadata": {},
     "output_type": "execute_result"
    }
   ],
   "source": [
    "lab.columns"
   ]
  },
  {
   "cell_type": "code",
   "execution_count": 110,
   "metadata": {},
   "outputs": [],
   "source": [
    "all_lab = admin.join(lab.set_index(\"ID\"), how=\"inner\", on='ID')"
   ]
  },
  {
   "cell_type": "code",
   "execution_count": 111,
   "metadata": {},
   "outputs": [
    {
     "data": {
      "text/html": [
       "<div>\n",
       "<style scoped>\n",
       "    .dataframe tbody tr th:only-of-type {\n",
       "        vertical-align: middle;\n",
       "    }\n",
       "\n",
       "    .dataframe tbody tr th {\n",
       "        vertical-align: top;\n",
       "    }\n",
       "\n",
       "    .dataframe thead th {\n",
       "        text-align: right;\n",
       "    }\n",
       "</style>\n",
       "<table border=\"1\" class=\"dataframe\">\n",
       "  <thead>\n",
       "    <tr style=\"text-align: right;\">\n",
       "      <th></th>\n",
       "      <th>ID</th>\n",
       "      <th>admission_date</th>\n",
       "      <th>admission_time</th>\n",
       "      <th>discharge_date</th>\n",
       "      <th>discharge_time</th>\n",
       "      <th>hospital_ID</th>\n",
       "      <th>gender</th>\n",
       "      <th>age</th>\n",
       "      <th>disease_status</th>\n",
       "      <th>length_of_stay</th>\n",
       "      <th>test_name</th>\n",
       "      <th>test_code</th>\n",
       "      <th>result_unit</th>\n",
       "      <th>result_value</th>\n",
       "      <th>result_date</th>\n",
       "      <th>result_time</th>\n",
       "      <th>provider_name</th>\n",
       "    </tr>\n",
       "  </thead>\n",
       "  <tbody>\n",
       "    <tr>\n",
       "      <th>0</th>\n",
       "      <td>1003</td>\n",
       "      <td>2002-04-25</td>\n",
       "      <td>07:47</td>\n",
       "      <td>2002-05-08</td>\n",
       "      <td>12:02</td>\n",
       "      <td>St. Joseph's Health Centre</td>\n",
       "      <td>F</td>\n",
       "      <td>NaN</td>\n",
       "      <td>0</td>\n",
       "      <td>13</td>\n",
       "      <td>Sodium plasma</td>\n",
       "      <td>NAPL</td>\n",
       "      <td>mmol/L</td>\n",
       "      <td>137.0</td>\n",
       "      <td>2002-05-07</td>\n",
       "      <td>05:26</td>\n",
       "      <td>Wray, Jamie</td>\n",
       "    </tr>\n",
       "    <tr>\n",
       "      <th>0</th>\n",
       "      <td>1003</td>\n",
       "      <td>2002-04-25</td>\n",
       "      <td>07:47</td>\n",
       "      <td>2002-05-08</td>\n",
       "      <td>12:02</td>\n",
       "      <td>St. Joseph's Health Centre</td>\n",
       "      <td>F</td>\n",
       "      <td>NaN</td>\n",
       "      <td>0</td>\n",
       "      <td>13</td>\n",
       "      <td>Creatinine plasma</td>\n",
       "      <td>CREAPL</td>\n",
       "      <td>umol/L</td>\n",
       "      <td>537.0</td>\n",
       "      <td>2002-05-02</td>\n",
       "      <td>02:02</td>\n",
       "      <td>Young, Jennifer</td>\n",
       "    </tr>\n",
       "    <tr>\n",
       "      <th>1</th>\n",
       "      <td>1008</td>\n",
       "      <td>2004-09-02</td>\n",
       "      <td>07:49</td>\n",
       "      <td>2005-02-01</td>\n",
       "      <td>10:07</td>\n",
       "      <td>St. Michael's Hospital</td>\n",
       "      <td>M</td>\n",
       "      <td>58.0</td>\n",
       "      <td>0</td>\n",
       "      <td>152</td>\n",
       "      <td>Sodium plasma</td>\n",
       "      <td>NAPL</td>\n",
       "      <td>mmol/L</td>\n",
       "      <td>143.1</td>\n",
       "      <td>2004-10-19</td>\n",
       "      <td>04:17</td>\n",
       "      <td>Wilbur, Kurra</td>\n",
       "    </tr>\n",
       "    <tr>\n",
       "      <th>1</th>\n",
       "      <td>1008</td>\n",
       "      <td>2004-09-02</td>\n",
       "      <td>07:49</td>\n",
       "      <td>2005-02-01</td>\n",
       "      <td>10:07</td>\n",
       "      <td>St. Michael's Hospital</td>\n",
       "      <td>M</td>\n",
       "      <td>58.0</td>\n",
       "      <td>0</td>\n",
       "      <td>152</td>\n",
       "      <td>Urea plasma</td>\n",
       "      <td>UREAPL</td>\n",
       "      <td>mmol/L</td>\n",
       "      <td>13.0</td>\n",
       "      <td>2004-11-05</td>\n",
       "      <td>13:58</td>\n",
       "      <td>PREMOVICH, TAYLOR</td>\n",
       "    </tr>\n",
       "    <tr>\n",
       "      <th>2</th>\n",
       "      <td>1009</td>\n",
       "      <td>2011-01-01</td>\n",
       "      <td>17:08</td>\n",
       "      <td>2011-06-26</td>\n",
       "      <td>08:16</td>\n",
       "      <td>St. Michael's Hospital</td>\n",
       "      <td>NaN</td>\n",
       "      <td>NaN</td>\n",
       "      <td>1</td>\n",
       "      <td>176</td>\n",
       "      <td>Sodium plasma</td>\n",
       "      <td>NAPL</td>\n",
       "      <td>mmol/L</td>\n",
       "      <td>145.7</td>\n",
       "      <td>2011-04-25</td>\n",
       "      <td>21:51</td>\n",
       "      <td>Ivojevic, Alexandra</td>\n",
       "    </tr>\n",
       "  </tbody>\n",
       "</table>\n",
       "</div>"
      ],
      "text/plain": [
       "     ID admission_date admission_time discharge_date discharge_time  \\\n",
       "0  1003     2002-04-25          07:47     2002-05-08          12:02   \n",
       "0  1003     2002-04-25          07:47     2002-05-08          12:02   \n",
       "1  1008     2004-09-02          07:49     2005-02-01          10:07   \n",
       "1  1008     2004-09-02          07:49     2005-02-01          10:07   \n",
       "2  1009     2011-01-01          17:08     2011-06-26          08:16   \n",
       "\n",
       "                  hospital_ID gender   age  disease_status  length_of_stay  \\\n",
       "0  St. Joseph's Health Centre      F   NaN               0              13   \n",
       "0  St. Joseph's Health Centre      F   NaN               0              13   \n",
       "1      St. Michael's Hospital      M  58.0               0             152   \n",
       "1      St. Michael's Hospital      M  58.0               0             152   \n",
       "2      St. Michael's Hospital    NaN   NaN               1             176   \n",
       "\n",
       "           test_name test_code result_unit  result_value result_date  \\\n",
       "0      Sodium plasma      NAPL      mmol/L         137.0  2002-05-07   \n",
       "0  Creatinine plasma    CREAPL      umol/L         537.0  2002-05-02   \n",
       "1      Sodium plasma      NAPL      mmol/L         143.1  2004-10-19   \n",
       "1        Urea plasma    UREAPL      mmol/L          13.0  2004-11-05   \n",
       "2      Sodium plasma      NAPL      mmol/L         145.7  2011-04-25   \n",
       "\n",
       "  result_time        provider_name  \n",
       "0       05:26          Wray, Jamie  \n",
       "0       02:02      Young, Jennifer  \n",
       "1       04:17        Wilbur, Kurra  \n",
       "1       13:58    PREMOVICH, TAYLOR  \n",
       "2       21:51  Ivojevic, Alexandra  "
      ]
     },
     "execution_count": 111,
     "metadata": {},
     "output_type": "execute_result"
    }
   ],
   "source": [
    "all_lab.head(5)"
   ]
  },
  {
   "cell_type": "markdown",
   "metadata": {},
   "source": [
    "If a test appears more than once for a subject (i.e., duplicated test_name for the same ID), filter\n",
    "for the lowest result_value"
   ]
  },
  {
   "cell_type": "code",
   "execution_count": 112,
   "metadata": {},
   "outputs": [
    {
     "data": {
      "text/html": [
       "<div>\n",
       "<style scoped>\n",
       "    .dataframe tbody tr th:only-of-type {\n",
       "        vertical-align: middle;\n",
       "    }\n",
       "\n",
       "    .dataframe tbody tr th {\n",
       "        vertical-align: top;\n",
       "    }\n",
       "\n",
       "    .dataframe thead th {\n",
       "        text-align: right;\n",
       "    }\n",
       "</style>\n",
       "<table border=\"1\" class=\"dataframe\">\n",
       "  <thead>\n",
       "    <tr style=\"text-align: right;\">\n",
       "      <th></th>\n",
       "      <th>ID</th>\n",
       "      <th>admission_date</th>\n",
       "      <th>admission_time</th>\n",
       "      <th>discharge_date</th>\n",
       "      <th>discharge_time</th>\n",
       "      <th>hospital_ID</th>\n",
       "      <th>gender</th>\n",
       "      <th>age</th>\n",
       "      <th>disease_status</th>\n",
       "      <th>length_of_stay</th>\n",
       "      <th>test_name</th>\n",
       "      <th>test_code</th>\n",
       "      <th>result_unit</th>\n",
       "      <th>result_value</th>\n",
       "      <th>result_date</th>\n",
       "      <th>result_time</th>\n",
       "      <th>provider_name</th>\n",
       "    </tr>\n",
       "  </thead>\n",
       "  <tbody>\n",
       "    <tr>\n",
       "      <th>0</th>\n",
       "      <td>1003</td>\n",
       "      <td>2002-04-25</td>\n",
       "      <td>07:47</td>\n",
       "      <td>2002-05-08</td>\n",
       "      <td>12:02</td>\n",
       "      <td>St. Joseph's Health Centre</td>\n",
       "      <td>F</td>\n",
       "      <td>NaN</td>\n",
       "      <td>0</td>\n",
       "      <td>13</td>\n",
       "      <td>Creatinine plasma</td>\n",
       "      <td>CREAPL</td>\n",
       "      <td>umol/L</td>\n",
       "      <td>537.0</td>\n",
       "      <td>2002-05-02</td>\n",
       "      <td>02:02</td>\n",
       "      <td>Young, Jennifer</td>\n",
       "    </tr>\n",
       "    <tr>\n",
       "      <th>0</th>\n",
       "      <td>1003</td>\n",
       "      <td>2002-04-25</td>\n",
       "      <td>07:47</td>\n",
       "      <td>2002-05-08</td>\n",
       "      <td>12:02</td>\n",
       "      <td>St. Joseph's Health Centre</td>\n",
       "      <td>F</td>\n",
       "      <td>NaN</td>\n",
       "      <td>0</td>\n",
       "      <td>13</td>\n",
       "      <td>Sodium plasma</td>\n",
       "      <td>NAPL</td>\n",
       "      <td>mmol/L</td>\n",
       "      <td>137.0</td>\n",
       "      <td>2002-05-07</td>\n",
       "      <td>05:26</td>\n",
       "      <td>Wray, Jamie</td>\n",
       "    </tr>\n",
       "    <tr>\n",
       "      <th>1</th>\n",
       "      <td>1008</td>\n",
       "      <td>2004-09-02</td>\n",
       "      <td>07:49</td>\n",
       "      <td>2005-02-01</td>\n",
       "      <td>10:07</td>\n",
       "      <td>St. Michael's Hospital</td>\n",
       "      <td>M</td>\n",
       "      <td>58.0</td>\n",
       "      <td>0</td>\n",
       "      <td>152</td>\n",
       "      <td>Urea plasma</td>\n",
       "      <td>UREAPL</td>\n",
       "      <td>mmol/L</td>\n",
       "      <td>13.0</td>\n",
       "      <td>2004-11-05</td>\n",
       "      <td>13:58</td>\n",
       "      <td>PREMOVICH, TAYLOR</td>\n",
       "    </tr>\n",
       "    <tr>\n",
       "      <th>1</th>\n",
       "      <td>1008</td>\n",
       "      <td>2004-09-02</td>\n",
       "      <td>07:49</td>\n",
       "      <td>2005-02-01</td>\n",
       "      <td>10:07</td>\n",
       "      <td>St. Michael's Hospital</td>\n",
       "      <td>M</td>\n",
       "      <td>58.0</td>\n",
       "      <td>0</td>\n",
       "      <td>152</td>\n",
       "      <td>Sodium plasma</td>\n",
       "      <td>NAPL</td>\n",
       "      <td>mmol/L</td>\n",
       "      <td>143.1</td>\n",
       "      <td>2004-10-19</td>\n",
       "      <td>04:17</td>\n",
       "      <td>Wilbur, Kurra</td>\n",
       "    </tr>\n",
       "    <tr>\n",
       "      <th>2</th>\n",
       "      <td>1009</td>\n",
       "      <td>2011-01-01</td>\n",
       "      <td>17:08</td>\n",
       "      <td>2011-06-26</td>\n",
       "      <td>08:16</td>\n",
       "      <td>St. Michael's Hospital</td>\n",
       "      <td>NaN</td>\n",
       "      <td>NaN</td>\n",
       "      <td>1</td>\n",
       "      <td>176</td>\n",
       "      <td>Sodium plasma</td>\n",
       "      <td>NAPL</td>\n",
       "      <td>mmol/L</td>\n",
       "      <td>145.7</td>\n",
       "      <td>2011-04-25</td>\n",
       "      <td>21:51</td>\n",
       "      <td>Ivojevic, Alexandra</td>\n",
       "    </tr>\n",
       "  </tbody>\n",
       "</table>\n",
       "</div>"
      ],
      "text/plain": [
       "     ID admission_date admission_time discharge_date discharge_time  \\\n",
       "0  1003     2002-04-25          07:47     2002-05-08          12:02   \n",
       "0  1003     2002-04-25          07:47     2002-05-08          12:02   \n",
       "1  1008     2004-09-02          07:49     2005-02-01          10:07   \n",
       "1  1008     2004-09-02          07:49     2005-02-01          10:07   \n",
       "2  1009     2011-01-01          17:08     2011-06-26          08:16   \n",
       "\n",
       "                  hospital_ID gender   age  disease_status  length_of_stay  \\\n",
       "0  St. Joseph's Health Centre      F   NaN               0              13   \n",
       "0  St. Joseph's Health Centre      F   NaN               0              13   \n",
       "1      St. Michael's Hospital      M  58.0               0             152   \n",
       "1      St. Michael's Hospital      M  58.0               0             152   \n",
       "2      St. Michael's Hospital    NaN   NaN               1             176   \n",
       "\n",
       "           test_name test_code result_unit  result_value result_date  \\\n",
       "0  Creatinine plasma    CREAPL      umol/L         537.0  2002-05-02   \n",
       "0      Sodium plasma      NAPL      mmol/L         137.0  2002-05-07   \n",
       "1        Urea plasma    UREAPL      mmol/L          13.0  2004-11-05   \n",
       "1      Sodium plasma      NAPL      mmol/L         143.1  2004-10-19   \n",
       "2      Sodium plasma      NAPL      mmol/L         145.7  2011-04-25   \n",
       "\n",
       "  result_time        provider_name  \n",
       "0       02:02      Young, Jennifer  \n",
       "0       05:26          Wray, Jamie  \n",
       "1       13:58    PREMOVICH, TAYLOR  \n",
       "1       04:17        Wilbur, Kurra  \n",
       "2       21:51  Ivojevic, Alexandra  "
      ]
     },
     "execution_count": 112,
     "metadata": {},
     "output_type": "execute_result"
    }
   ],
   "source": [
    "all_lab_cleaned = all_lab.sort_values('result_value', ascending=True).drop_duplicates([\"ID\",'test_name']).sort_index()\n",
    "all_lab_cleaned.head()"
   ]
  },
  {
   "cell_type": "markdown",
   "metadata": {},
   "source": [
    "# Transform the lab data from long format to wide format "
   ]
  },
  {
   "cell_type": "code",
   "execution_count": 113,
   "metadata": {},
   "outputs": [
    {
     "data": {
      "text/html": [
       "<div>\n",
       "<style scoped>\n",
       "    .dataframe tbody tr th:only-of-type {\n",
       "        vertical-align: middle;\n",
       "    }\n",
       "\n",
       "    .dataframe tbody tr th {\n",
       "        vertical-align: top;\n",
       "    }\n",
       "\n",
       "    .dataframe thead th {\n",
       "        text-align: right;\n",
       "    }\n",
       "</style>\n",
       "<table border=\"1\" class=\"dataframe\">\n",
       "  <thead>\n",
       "    <tr style=\"text-align: right;\">\n",
       "      <th>test_name</th>\n",
       "      <th>Bicarbonate plasma</th>\n",
       "      <th>Chloride plasma</th>\n",
       "      <th>Creatinine plasma</th>\n",
       "      <th>Potassium plasma</th>\n",
       "      <th>Sodium plasma</th>\n",
       "      <th>Urea plasma</th>\n",
       "    </tr>\n",
       "    <tr>\n",
       "      <th>ID</th>\n",
       "      <th></th>\n",
       "      <th></th>\n",
       "      <th></th>\n",
       "      <th></th>\n",
       "      <th></th>\n",
       "      <th></th>\n",
       "    </tr>\n",
       "  </thead>\n",
       "  <tbody>\n",
       "    <tr>\n",
       "      <th>1003</th>\n",
       "      <td>NaN</td>\n",
       "      <td>NaN</td>\n",
       "      <td>537.0</td>\n",
       "      <td>NaN</td>\n",
       "      <td>137.0</td>\n",
       "      <td>NaN</td>\n",
       "    </tr>\n",
       "    <tr>\n",
       "      <th>1005</th>\n",
       "      <td>NaN</td>\n",
       "      <td>NaN</td>\n",
       "      <td>NaN</td>\n",
       "      <td>NaN</td>\n",
       "      <td>NaN</td>\n",
       "      <td>37.3</td>\n",
       "    </tr>\n",
       "    <tr>\n",
       "      <th>1008</th>\n",
       "      <td>NaN</td>\n",
       "      <td>NaN</td>\n",
       "      <td>NaN</td>\n",
       "      <td>NaN</td>\n",
       "      <td>143.1</td>\n",
       "      <td>13.0</td>\n",
       "    </tr>\n",
       "    <tr>\n",
       "      <th>1009</th>\n",
       "      <td>NaN</td>\n",
       "      <td>NaN</td>\n",
       "      <td>73.1</td>\n",
       "      <td>NaN</td>\n",
       "      <td>145.7</td>\n",
       "      <td>NaN</td>\n",
       "    </tr>\n",
       "    <tr>\n",
       "      <th>1019</th>\n",
       "      <td>NaN</td>\n",
       "      <td>77.3</td>\n",
       "      <td>367.9</td>\n",
       "      <td>NaN</td>\n",
       "      <td>NaN</td>\n",
       "      <td>NaN</td>\n",
       "    </tr>\n",
       "  </tbody>\n",
       "</table>\n",
       "</div>"
      ],
      "text/plain": [
       "test_name  Bicarbonate plasma  Chloride plasma  Creatinine plasma  \\\n",
       "ID                                                                  \n",
       "1003                      NaN              NaN              537.0   \n",
       "1005                      NaN              NaN                NaN   \n",
       "1008                      NaN              NaN                NaN   \n",
       "1009                      NaN              NaN               73.1   \n",
       "1019                      NaN             77.3              367.9   \n",
       "\n",
       "test_name  Potassium plasma  Sodium plasma  Urea plasma  \n",
       "ID                                                       \n",
       "1003                    NaN          137.0          NaN  \n",
       "1005                    NaN            NaN         37.3  \n",
       "1008                    NaN          143.1         13.0  \n",
       "1009                    NaN          145.7          NaN  \n",
       "1019                    NaN            NaN          NaN  "
      ]
     },
     "execution_count": 113,
     "metadata": {},
     "output_type": "execute_result"
    }
   ],
   "source": [
    "all_lab_wide=all_lab_cleaned.pivot(index='ID', columns='test_name', values='result_value')\n",
    "all_lab_wide.head()"
   ]
  },
  {
   "cell_type": "markdown",
   "metadata": {},
   "source": [
    "Now we can have the mena of each test "
   ]
  },
  {
   "cell_type": "code",
   "execution_count": 115,
   "metadata": {},
   "outputs": [
    {
     "data": {
      "text/plain": [
       "72.66967592592593"
      ]
     },
     "execution_count": 115,
     "metadata": {},
     "output_type": "execute_result"
    }
   ],
   "source": [
    "all_lab_wide['Urea plasma'].mean()"
   ]
  },
  {
   "cell_type": "markdown",
   "metadata": {},
   "source": [
    "# Impute data in case of any missing values "
   ]
  },
  {
   "cell_type": "markdown",
   "metadata": {},
   "source": [
    "Make a copy of the lab data and name it lab_impute"
   ]
  },
  {
   "cell_type": "code",
   "execution_count": 20,
   "metadata": {},
   "outputs": [],
   "source": [
    "lab_impute = all_lab.copy()"
   ]
  },
  {
   "cell_type": "code",
   "execution_count": 21,
   "metadata": {},
   "outputs": [
    {
     "data": {
      "text/html": [
       "<div>\n",
       "<style scoped>\n",
       "    .dataframe tbody tr th:only-of-type {\n",
       "        vertical-align: middle;\n",
       "    }\n",
       "\n",
       "    .dataframe tbody tr th {\n",
       "        vertical-align: top;\n",
       "    }\n",
       "\n",
       "    .dataframe thead th {\n",
       "        text-align: right;\n",
       "    }\n",
       "</style>\n",
       "<table border=\"1\" class=\"dataframe\">\n",
       "  <thead>\n",
       "    <tr style=\"text-align: right;\">\n",
       "      <th></th>\n",
       "      <th>ID</th>\n",
       "      <th>admission_date</th>\n",
       "      <th>admission_time</th>\n",
       "      <th>discharge_date</th>\n",
       "      <th>discharge_time</th>\n",
       "      <th>hospital_ID</th>\n",
       "      <th>gender</th>\n",
       "      <th>age</th>\n",
       "      <th>disease_status</th>\n",
       "      <th>length_of_stay</th>\n",
       "      <th>test_name</th>\n",
       "      <th>test_code</th>\n",
       "      <th>result_unit</th>\n",
       "      <th>result_value</th>\n",
       "      <th>result_date</th>\n",
       "      <th>result_time</th>\n",
       "      <th>provider_name</th>\n",
       "    </tr>\n",
       "  </thead>\n",
       "  <tbody>\n",
       "    <tr>\n",
       "      <th>0</th>\n",
       "      <td>1003</td>\n",
       "      <td>2002-04-25</td>\n",
       "      <td>07:47</td>\n",
       "      <td>2002-05-08</td>\n",
       "      <td>12:02</td>\n",
       "      <td>St. Joseph's Health Centre</td>\n",
       "      <td>F</td>\n",
       "      <td>NaN</td>\n",
       "      <td>0</td>\n",
       "      <td>13</td>\n",
       "      <td>Sodium plasma</td>\n",
       "      <td>NAPL</td>\n",
       "      <td>mmol/L</td>\n",
       "      <td>137.0</td>\n",
       "      <td>2002-05-07</td>\n",
       "      <td>05:26</td>\n",
       "      <td>Wray, Jamie</td>\n",
       "    </tr>\n",
       "    <tr>\n",
       "      <th>0</th>\n",
       "      <td>1003</td>\n",
       "      <td>2002-04-25</td>\n",
       "      <td>07:47</td>\n",
       "      <td>2002-05-08</td>\n",
       "      <td>12:02</td>\n",
       "      <td>St. Joseph's Health Centre</td>\n",
       "      <td>F</td>\n",
       "      <td>NaN</td>\n",
       "      <td>0</td>\n",
       "      <td>13</td>\n",
       "      <td>Creatinine plasma</td>\n",
       "      <td>CREAPL</td>\n",
       "      <td>umol/L</td>\n",
       "      <td>537.0</td>\n",
       "      <td>2002-05-02</td>\n",
       "      <td>02:02</td>\n",
       "      <td>Young, Jennifer</td>\n",
       "    </tr>\n",
       "    <tr>\n",
       "      <th>1</th>\n",
       "      <td>1008</td>\n",
       "      <td>2004-09-02</td>\n",
       "      <td>07:49</td>\n",
       "      <td>2005-02-01</td>\n",
       "      <td>10:07</td>\n",
       "      <td>St. Michael's Hospital</td>\n",
       "      <td>M</td>\n",
       "      <td>58.0</td>\n",
       "      <td>0</td>\n",
       "      <td>152</td>\n",
       "      <td>Sodium plasma</td>\n",
       "      <td>NAPL</td>\n",
       "      <td>mmol/L</td>\n",
       "      <td>143.1</td>\n",
       "      <td>2004-10-19</td>\n",
       "      <td>04:17</td>\n",
       "      <td>Wilbur, Kurra</td>\n",
       "    </tr>\n",
       "    <tr>\n",
       "      <th>1</th>\n",
       "      <td>1008</td>\n",
       "      <td>2004-09-02</td>\n",
       "      <td>07:49</td>\n",
       "      <td>2005-02-01</td>\n",
       "      <td>10:07</td>\n",
       "      <td>St. Michael's Hospital</td>\n",
       "      <td>M</td>\n",
       "      <td>58.0</td>\n",
       "      <td>0</td>\n",
       "      <td>152</td>\n",
       "      <td>Urea plasma</td>\n",
       "      <td>UREAPL</td>\n",
       "      <td>mmol/L</td>\n",
       "      <td>13.0</td>\n",
       "      <td>2004-11-05</td>\n",
       "      <td>13:58</td>\n",
       "      <td>PREMOVICH, TAYLOR</td>\n",
       "    </tr>\n",
       "    <tr>\n",
       "      <th>2</th>\n",
       "      <td>1009</td>\n",
       "      <td>2011-01-01</td>\n",
       "      <td>17:08</td>\n",
       "      <td>2011-06-26</td>\n",
       "      <td>08:16</td>\n",
       "      <td>St. Michael's Hospital</td>\n",
       "      <td>NaN</td>\n",
       "      <td>NaN</td>\n",
       "      <td>1</td>\n",
       "      <td>176</td>\n",
       "      <td>Sodium plasma</td>\n",
       "      <td>NAPL</td>\n",
       "      <td>mmol/L</td>\n",
       "      <td>145.7</td>\n",
       "      <td>2011-04-25</td>\n",
       "      <td>21:51</td>\n",
       "      <td>Ivojevic, Alexandra</td>\n",
       "    </tr>\n",
       "  </tbody>\n",
       "</table>\n",
       "</div>"
      ],
      "text/plain": [
       "     ID admission_date admission_time discharge_date discharge_time  \\\n",
       "0  1003     2002-04-25          07:47     2002-05-08          12:02   \n",
       "0  1003     2002-04-25          07:47     2002-05-08          12:02   \n",
       "1  1008     2004-09-02          07:49     2005-02-01          10:07   \n",
       "1  1008     2004-09-02          07:49     2005-02-01          10:07   \n",
       "2  1009     2011-01-01          17:08     2011-06-26          08:16   \n",
       "\n",
       "                  hospital_ID gender   age  disease_status  length_of_stay  \\\n",
       "0  St. Joseph's Health Centre      F   NaN               0              13   \n",
       "0  St. Joseph's Health Centre      F   NaN               0              13   \n",
       "1      St. Michael's Hospital      M  58.0               0             152   \n",
       "1      St. Michael's Hospital      M  58.0               0             152   \n",
       "2      St. Michael's Hospital    NaN   NaN               1             176   \n",
       "\n",
       "           test_name test_code result_unit  result_value result_date  \\\n",
       "0      Sodium plasma      NAPL      mmol/L         137.0  2002-05-07   \n",
       "0  Creatinine plasma    CREAPL      umol/L         537.0  2002-05-02   \n",
       "1      Sodium plasma      NAPL      mmol/L         143.1  2004-10-19   \n",
       "1        Urea plasma    UREAPL      mmol/L          13.0  2004-11-05   \n",
       "2      Sodium plasma      NAPL      mmol/L         145.7  2011-04-25   \n",
       "\n",
       "  result_time        provider_name  \n",
       "0       05:26          Wray, Jamie  \n",
       "0       02:02      Young, Jennifer  \n",
       "1       04:17        Wilbur, Kurra  \n",
       "1       13:58    PREMOVICH, TAYLOR  \n",
       "2       21:51  Ivojevic, Alexandra  "
      ]
     },
     "execution_count": 21,
     "metadata": {},
     "output_type": "execute_result"
    }
   ],
   "source": [
    "lab_impute.head(5)"
   ]
  },
  {
   "cell_type": "code",
   "execution_count": 116,
   "metadata": {},
   "outputs": [],
   "source": [
    "#make a new variable result_year from result_date\n",
    "lab_impute[\"result_year\"] = Pd.to_datetime(lab_impute[\"result_date\"]).dt.year"
   ]
  },
  {
   "cell_type": "code",
   "execution_count": 23,
   "metadata": {},
   "outputs": [
    {
     "data": {
      "text/html": [
       "<div>\n",
       "<style scoped>\n",
       "    .dataframe tbody tr th:only-of-type {\n",
       "        vertical-align: middle;\n",
       "    }\n",
       "\n",
       "    .dataframe tbody tr th {\n",
       "        vertical-align: top;\n",
       "    }\n",
       "\n",
       "    .dataframe thead th {\n",
       "        text-align: right;\n",
       "    }\n",
       "</style>\n",
       "<table border=\"1\" class=\"dataframe\">\n",
       "  <thead>\n",
       "    <tr style=\"text-align: right;\">\n",
       "      <th></th>\n",
       "      <th>ID</th>\n",
       "      <th>admission_date</th>\n",
       "      <th>admission_time</th>\n",
       "      <th>discharge_date</th>\n",
       "      <th>discharge_time</th>\n",
       "      <th>hospital_ID</th>\n",
       "      <th>gender</th>\n",
       "      <th>age</th>\n",
       "      <th>disease_status</th>\n",
       "      <th>length_of_stay</th>\n",
       "      <th>test_name</th>\n",
       "      <th>test_code</th>\n",
       "      <th>result_unit</th>\n",
       "      <th>result_value</th>\n",
       "      <th>result_date</th>\n",
       "      <th>result_time</th>\n",
       "      <th>provider_name</th>\n",
       "      <th>result_year</th>\n",
       "    </tr>\n",
       "  </thead>\n",
       "  <tbody>\n",
       "    <tr>\n",
       "      <th>0</th>\n",
       "      <td>1003</td>\n",
       "      <td>2002-04-25</td>\n",
       "      <td>07:47</td>\n",
       "      <td>2002-05-08</td>\n",
       "      <td>12:02</td>\n",
       "      <td>St. Joseph's Health Centre</td>\n",
       "      <td>F</td>\n",
       "      <td>NaN</td>\n",
       "      <td>0</td>\n",
       "      <td>13</td>\n",
       "      <td>Sodium plasma</td>\n",
       "      <td>NAPL</td>\n",
       "      <td>mmol/L</td>\n",
       "      <td>137.0</td>\n",
       "      <td>2002-05-07</td>\n",
       "      <td>05:26</td>\n",
       "      <td>Wray, Jamie</td>\n",
       "      <td>2002</td>\n",
       "    </tr>\n",
       "    <tr>\n",
       "      <th>0</th>\n",
       "      <td>1003</td>\n",
       "      <td>2002-04-25</td>\n",
       "      <td>07:47</td>\n",
       "      <td>2002-05-08</td>\n",
       "      <td>12:02</td>\n",
       "      <td>St. Joseph's Health Centre</td>\n",
       "      <td>F</td>\n",
       "      <td>NaN</td>\n",
       "      <td>0</td>\n",
       "      <td>13</td>\n",
       "      <td>Creatinine plasma</td>\n",
       "      <td>CREAPL</td>\n",
       "      <td>umol/L</td>\n",
       "      <td>537.0</td>\n",
       "      <td>2002-05-02</td>\n",
       "      <td>02:02</td>\n",
       "      <td>Young, Jennifer</td>\n",
       "      <td>2002</td>\n",
       "    </tr>\n",
       "    <tr>\n",
       "      <th>1</th>\n",
       "      <td>1008</td>\n",
       "      <td>2004-09-02</td>\n",
       "      <td>07:49</td>\n",
       "      <td>2005-02-01</td>\n",
       "      <td>10:07</td>\n",
       "      <td>St. Michael's Hospital</td>\n",
       "      <td>M</td>\n",
       "      <td>58.0</td>\n",
       "      <td>0</td>\n",
       "      <td>152</td>\n",
       "      <td>Sodium plasma</td>\n",
       "      <td>NAPL</td>\n",
       "      <td>mmol/L</td>\n",
       "      <td>143.1</td>\n",
       "      <td>2004-10-19</td>\n",
       "      <td>04:17</td>\n",
       "      <td>Wilbur, Kurra</td>\n",
       "      <td>2004</td>\n",
       "    </tr>\n",
       "    <tr>\n",
       "      <th>1</th>\n",
       "      <td>1008</td>\n",
       "      <td>2004-09-02</td>\n",
       "      <td>07:49</td>\n",
       "      <td>2005-02-01</td>\n",
       "      <td>10:07</td>\n",
       "      <td>St. Michael's Hospital</td>\n",
       "      <td>M</td>\n",
       "      <td>58.0</td>\n",
       "      <td>0</td>\n",
       "      <td>152</td>\n",
       "      <td>Urea plasma</td>\n",
       "      <td>UREAPL</td>\n",
       "      <td>mmol/L</td>\n",
       "      <td>13.0</td>\n",
       "      <td>2004-11-05</td>\n",
       "      <td>13:58</td>\n",
       "      <td>PREMOVICH, TAYLOR</td>\n",
       "      <td>2004</td>\n",
       "    </tr>\n",
       "    <tr>\n",
       "      <th>2</th>\n",
       "      <td>1009</td>\n",
       "      <td>2011-01-01</td>\n",
       "      <td>17:08</td>\n",
       "      <td>2011-06-26</td>\n",
       "      <td>08:16</td>\n",
       "      <td>St. Michael's Hospital</td>\n",
       "      <td>NaN</td>\n",
       "      <td>NaN</td>\n",
       "      <td>1</td>\n",
       "      <td>176</td>\n",
       "      <td>Sodium plasma</td>\n",
       "      <td>NAPL</td>\n",
       "      <td>mmol/L</td>\n",
       "      <td>145.7</td>\n",
       "      <td>2011-04-25</td>\n",
       "      <td>21:51</td>\n",
       "      <td>Ivojevic, Alexandra</td>\n",
       "      <td>2011</td>\n",
       "    </tr>\n",
       "  </tbody>\n",
       "</table>\n",
       "</div>"
      ],
      "text/plain": [
       "     ID admission_date admission_time discharge_date discharge_time  \\\n",
       "0  1003     2002-04-25          07:47     2002-05-08          12:02   \n",
       "0  1003     2002-04-25          07:47     2002-05-08          12:02   \n",
       "1  1008     2004-09-02          07:49     2005-02-01          10:07   \n",
       "1  1008     2004-09-02          07:49     2005-02-01          10:07   \n",
       "2  1009     2011-01-01          17:08     2011-06-26          08:16   \n",
       "\n",
       "                  hospital_ID gender   age  disease_status  length_of_stay  \\\n",
       "0  St. Joseph's Health Centre      F   NaN               0              13   \n",
       "0  St. Joseph's Health Centre      F   NaN               0              13   \n",
       "1      St. Michael's Hospital      M  58.0               0             152   \n",
       "1      St. Michael's Hospital      M  58.0               0             152   \n",
       "2      St. Michael's Hospital    NaN   NaN               1             176   \n",
       "\n",
       "           test_name test_code result_unit  result_value result_date  \\\n",
       "0      Sodium plasma      NAPL      mmol/L         137.0  2002-05-07   \n",
       "0  Creatinine plasma    CREAPL      umol/L         537.0  2002-05-02   \n",
       "1      Sodium plasma      NAPL      mmol/L         143.1  2004-10-19   \n",
       "1        Urea plasma    UREAPL      mmol/L          13.0  2004-11-05   \n",
       "2      Sodium plasma      NAPL      mmol/L         145.7  2011-04-25   \n",
       "\n",
       "  result_time        provider_name  result_year  \n",
       "0       05:26          Wray, Jamie         2002  \n",
       "0       02:02      Young, Jennifer         2002  \n",
       "1       04:17        Wilbur, Kurra         2004  \n",
       "1       13:58    PREMOVICH, TAYLOR         2004  \n",
       "2       21:51  Ivojevic, Alexandra         2011  "
      ]
     },
     "execution_count": 23,
     "metadata": {},
     "output_type": "execute_result"
    }
   ],
   "source": [
    "lab_impute.head(5)"
   ]
  },
  {
   "cell_type": "markdown",
   "metadata": {},
   "source": [
    "replace all result_value collected in the year 2002 with NA"
   ]
  },
  {
   "cell_type": "code",
   "execution_count": 24,
   "metadata": {},
   "outputs": [],
   "source": [
    "lab_impute.loc[lab_impute['result_year'] == 2002, 'result_value'] = np.nan"
   ]
  },
  {
   "cell_type": "code",
   "execution_count": 25,
   "metadata": {},
   "outputs": [
    {
     "data": {
      "text/html": [
       "<div>\n",
       "<style scoped>\n",
       "    .dataframe tbody tr th:only-of-type {\n",
       "        vertical-align: middle;\n",
       "    }\n",
       "\n",
       "    .dataframe tbody tr th {\n",
       "        vertical-align: top;\n",
       "    }\n",
       "\n",
       "    .dataframe thead th {\n",
       "        text-align: right;\n",
       "    }\n",
       "</style>\n",
       "<table border=\"1\" class=\"dataframe\">\n",
       "  <thead>\n",
       "    <tr style=\"text-align: right;\">\n",
       "      <th></th>\n",
       "      <th>ID</th>\n",
       "      <th>admission_date</th>\n",
       "      <th>admission_time</th>\n",
       "      <th>discharge_date</th>\n",
       "      <th>discharge_time</th>\n",
       "      <th>hospital_ID</th>\n",
       "      <th>gender</th>\n",
       "      <th>age</th>\n",
       "      <th>disease_status</th>\n",
       "      <th>length_of_stay</th>\n",
       "      <th>test_name</th>\n",
       "      <th>test_code</th>\n",
       "      <th>result_unit</th>\n",
       "      <th>result_value</th>\n",
       "      <th>result_date</th>\n",
       "      <th>result_time</th>\n",
       "      <th>provider_name</th>\n",
       "      <th>result_year</th>\n",
       "    </tr>\n",
       "  </thead>\n",
       "  <tbody>\n",
       "    <tr>\n",
       "      <th>0</th>\n",
       "      <td>1003</td>\n",
       "      <td>2002-04-25</td>\n",
       "      <td>07:47</td>\n",
       "      <td>2002-05-08</td>\n",
       "      <td>12:02</td>\n",
       "      <td>St. Joseph's Health Centre</td>\n",
       "      <td>F</td>\n",
       "      <td>NaN</td>\n",
       "      <td>0</td>\n",
       "      <td>13</td>\n",
       "      <td>Sodium plasma</td>\n",
       "      <td>NAPL</td>\n",
       "      <td>mmol/L</td>\n",
       "      <td>NaN</td>\n",
       "      <td>2002-05-07</td>\n",
       "      <td>05:26</td>\n",
       "      <td>Wray, Jamie</td>\n",
       "      <td>2002</td>\n",
       "    </tr>\n",
       "    <tr>\n",
       "      <th>0</th>\n",
       "      <td>1003</td>\n",
       "      <td>2002-04-25</td>\n",
       "      <td>07:47</td>\n",
       "      <td>2002-05-08</td>\n",
       "      <td>12:02</td>\n",
       "      <td>St. Joseph's Health Centre</td>\n",
       "      <td>F</td>\n",
       "      <td>NaN</td>\n",
       "      <td>0</td>\n",
       "      <td>13</td>\n",
       "      <td>Creatinine plasma</td>\n",
       "      <td>CREAPL</td>\n",
       "      <td>umol/L</td>\n",
       "      <td>NaN</td>\n",
       "      <td>2002-05-02</td>\n",
       "      <td>02:02</td>\n",
       "      <td>Young, Jennifer</td>\n",
       "      <td>2002</td>\n",
       "    </tr>\n",
       "    <tr>\n",
       "      <th>1</th>\n",
       "      <td>1008</td>\n",
       "      <td>2004-09-02</td>\n",
       "      <td>07:49</td>\n",
       "      <td>2005-02-01</td>\n",
       "      <td>10:07</td>\n",
       "      <td>St. Michael's Hospital</td>\n",
       "      <td>M</td>\n",
       "      <td>58.0</td>\n",
       "      <td>0</td>\n",
       "      <td>152</td>\n",
       "      <td>Sodium plasma</td>\n",
       "      <td>NAPL</td>\n",
       "      <td>mmol/L</td>\n",
       "      <td>143.1</td>\n",
       "      <td>2004-10-19</td>\n",
       "      <td>04:17</td>\n",
       "      <td>Wilbur, Kurra</td>\n",
       "      <td>2004</td>\n",
       "    </tr>\n",
       "    <tr>\n",
       "      <th>1</th>\n",
       "      <td>1008</td>\n",
       "      <td>2004-09-02</td>\n",
       "      <td>07:49</td>\n",
       "      <td>2005-02-01</td>\n",
       "      <td>10:07</td>\n",
       "      <td>St. Michael's Hospital</td>\n",
       "      <td>M</td>\n",
       "      <td>58.0</td>\n",
       "      <td>0</td>\n",
       "      <td>152</td>\n",
       "      <td>Urea plasma</td>\n",
       "      <td>UREAPL</td>\n",
       "      <td>mmol/L</td>\n",
       "      <td>13.0</td>\n",
       "      <td>2004-11-05</td>\n",
       "      <td>13:58</td>\n",
       "      <td>PREMOVICH, TAYLOR</td>\n",
       "      <td>2004</td>\n",
       "    </tr>\n",
       "    <tr>\n",
       "      <th>2</th>\n",
       "      <td>1009</td>\n",
       "      <td>2011-01-01</td>\n",
       "      <td>17:08</td>\n",
       "      <td>2011-06-26</td>\n",
       "      <td>08:16</td>\n",
       "      <td>St. Michael's Hospital</td>\n",
       "      <td>NaN</td>\n",
       "      <td>NaN</td>\n",
       "      <td>1</td>\n",
       "      <td>176</td>\n",
       "      <td>Sodium plasma</td>\n",
       "      <td>NAPL</td>\n",
       "      <td>mmol/L</td>\n",
       "      <td>145.7</td>\n",
       "      <td>2011-04-25</td>\n",
       "      <td>21:51</td>\n",
       "      <td>Ivojevic, Alexandra</td>\n",
       "      <td>2011</td>\n",
       "    </tr>\n",
       "  </tbody>\n",
       "</table>\n",
       "</div>"
      ],
      "text/plain": [
       "     ID admission_date admission_time discharge_date discharge_time  \\\n",
       "0  1003     2002-04-25          07:47     2002-05-08          12:02   \n",
       "0  1003     2002-04-25          07:47     2002-05-08          12:02   \n",
       "1  1008     2004-09-02          07:49     2005-02-01          10:07   \n",
       "1  1008     2004-09-02          07:49     2005-02-01          10:07   \n",
       "2  1009     2011-01-01          17:08     2011-06-26          08:16   \n",
       "\n",
       "                  hospital_ID gender   age  disease_status  length_of_stay  \\\n",
       "0  St. Joseph's Health Centre      F   NaN               0              13   \n",
       "0  St. Joseph's Health Centre      F   NaN               0              13   \n",
       "1      St. Michael's Hospital      M  58.0               0             152   \n",
       "1      St. Michael's Hospital      M  58.0               0             152   \n",
       "2      St. Michael's Hospital    NaN   NaN               1             176   \n",
       "\n",
       "           test_name test_code result_unit  result_value result_date  \\\n",
       "0      Sodium plasma      NAPL      mmol/L           NaN  2002-05-07   \n",
       "0  Creatinine plasma    CREAPL      umol/L           NaN  2002-05-02   \n",
       "1      Sodium plasma      NAPL      mmol/L         143.1  2004-10-19   \n",
       "1        Urea plasma    UREAPL      mmol/L          13.0  2004-11-05   \n",
       "2      Sodium plasma      NAPL      mmol/L         145.7  2011-04-25   \n",
       "\n",
       "  result_time        provider_name  result_year  \n",
       "0       05:26          Wray, Jamie         2002  \n",
       "0       02:02      Young, Jennifer         2002  \n",
       "1       04:17        Wilbur, Kurra         2004  \n",
       "1       13:58    PREMOVICH, TAYLOR         2004  \n",
       "2       21:51  Ivojevic, Alexandra         2011  "
      ]
     },
     "execution_count": 25,
     "metadata": {},
     "output_type": "execute_result"
    }
   ],
   "source": [
    "lab_impute.head(5)"
   ]
  },
  {
   "cell_type": "markdown",
   "metadata": {},
   "source": [
    "impute these NAs with the mean value of the remaining records of the\n",
    "corresponding test_name (e.g., replace the NAs of the test_name “Bicarbonate plasma” with its mean\n",
    "value of non-NAs). To this end, we need to calculate the means of each test first."
   ]
  },
  {
   "cell_type": "code",
   "execution_count": 26,
   "metadata": {},
   "outputs": [
    {
     "data": {
      "text/plain": [
       "test_name\n",
       "Bicarbonate plasma     56.530405\n",
       "Chloride plasma       130.503859\n",
       "Creatinine plasma     323.499742\n",
       "Potassium plasma        6.322656\n",
       "Sodium plasma         134.846264\n",
       "Urea plasma            75.044647\n",
       "Name: result_value, dtype: float64"
      ]
     },
     "execution_count": 26,
     "metadata": {},
     "output_type": "execute_result"
    }
   ],
   "source": [
    "result_values_mean=lab_impute.groupby([\"test_name\"]).mean()[\"result_value\"]\n",
    "result_values_mean"
   ]
  },
  {
   "cell_type": "code",
   "execution_count": 27,
   "metadata": {},
   "outputs": [
    {
     "data": {
      "text/plain": [
       "[56.530405405405396,\n",
       " 130.5038585209004,\n",
       " 323.4997422680414,\n",
       " 6.322656249999999,\n",
       " 134.84626407369507,\n",
       " 75.04464692482912]"
      ]
     },
     "execution_count": 27,
     "metadata": {},
     "output_type": "execute_result"
    }
   ],
   "source": [
    "test_means = result_values_mean.tolist()\n",
    "test_means"
   ]
  },
  {
   "cell_type": "code",
   "execution_count": 28,
   "metadata": {},
   "outputs": [
    {
     "data": {
      "text/plain": [
       "['Bicarbonate plasma',\n",
       " 'Chloride plasma',\n",
       " 'Creatinine plasma',\n",
       " 'Potassium plasma',\n",
       " 'Sodium plasma',\n",
       " 'Urea plasma']"
      ]
     },
     "execution_count": 28,
     "metadata": {},
     "output_type": "execute_result"
    }
   ],
   "source": [
    "test_types = result_values_mean.index.tolist()\n",
    "test_types"
   ]
  },
  {
   "cell_type": "code",
   "execution_count": 29,
   "metadata": {},
   "outputs": [],
   "source": [
    "for i in range(len(test_types)):\n",
    "               lab_impute.loc[(lab_impute[\"test_name\"]==test_types[i]) & (lab_impute.result_value.isnull()), \"result_value\"] = test_means[i]"
   ]
  },
  {
   "cell_type": "code",
   "execution_count": 30,
   "metadata": {},
   "outputs": [
    {
     "data": {
      "text/html": [
       "<div>\n",
       "<style scoped>\n",
       "    .dataframe tbody tr th:only-of-type {\n",
       "        vertical-align: middle;\n",
       "    }\n",
       "\n",
       "    .dataframe tbody tr th {\n",
       "        vertical-align: top;\n",
       "    }\n",
       "\n",
       "    .dataframe thead th {\n",
       "        text-align: right;\n",
       "    }\n",
       "</style>\n",
       "<table border=\"1\" class=\"dataframe\">\n",
       "  <thead>\n",
       "    <tr style=\"text-align: right;\">\n",
       "      <th></th>\n",
       "      <th>ID</th>\n",
       "      <th>admission_date</th>\n",
       "      <th>admission_time</th>\n",
       "      <th>discharge_date</th>\n",
       "      <th>discharge_time</th>\n",
       "      <th>hospital_ID</th>\n",
       "      <th>gender</th>\n",
       "      <th>age</th>\n",
       "      <th>disease_status</th>\n",
       "      <th>length_of_stay</th>\n",
       "      <th>test_name</th>\n",
       "      <th>test_code</th>\n",
       "      <th>result_unit</th>\n",
       "      <th>result_value</th>\n",
       "      <th>result_date</th>\n",
       "      <th>result_time</th>\n",
       "      <th>provider_name</th>\n",
       "      <th>result_year</th>\n",
       "    </tr>\n",
       "  </thead>\n",
       "  <tbody>\n",
       "    <tr>\n",
       "      <th>0</th>\n",
       "      <td>1003</td>\n",
       "      <td>2002-04-25</td>\n",
       "      <td>07:47</td>\n",
       "      <td>2002-05-08</td>\n",
       "      <td>12:02</td>\n",
       "      <td>St. Joseph's Health Centre</td>\n",
       "      <td>F</td>\n",
       "      <td>NaN</td>\n",
       "      <td>0</td>\n",
       "      <td>13</td>\n",
       "      <td>Sodium plasma</td>\n",
       "      <td>NAPL</td>\n",
       "      <td>mmol/L</td>\n",
       "      <td>134.846264</td>\n",
       "      <td>2002-05-07</td>\n",
       "      <td>05:26</td>\n",
       "      <td>Wray, Jamie</td>\n",
       "      <td>2002</td>\n",
       "    </tr>\n",
       "    <tr>\n",
       "      <th>0</th>\n",
       "      <td>1003</td>\n",
       "      <td>2002-04-25</td>\n",
       "      <td>07:47</td>\n",
       "      <td>2002-05-08</td>\n",
       "      <td>12:02</td>\n",
       "      <td>St. Joseph's Health Centre</td>\n",
       "      <td>F</td>\n",
       "      <td>NaN</td>\n",
       "      <td>0</td>\n",
       "      <td>13</td>\n",
       "      <td>Creatinine plasma</td>\n",
       "      <td>CREAPL</td>\n",
       "      <td>umol/L</td>\n",
       "      <td>323.499742</td>\n",
       "      <td>2002-05-02</td>\n",
       "      <td>02:02</td>\n",
       "      <td>Young, Jennifer</td>\n",
       "      <td>2002</td>\n",
       "    </tr>\n",
       "    <tr>\n",
       "      <th>1</th>\n",
       "      <td>1008</td>\n",
       "      <td>2004-09-02</td>\n",
       "      <td>07:49</td>\n",
       "      <td>2005-02-01</td>\n",
       "      <td>10:07</td>\n",
       "      <td>St. Michael's Hospital</td>\n",
       "      <td>M</td>\n",
       "      <td>58.0</td>\n",
       "      <td>0</td>\n",
       "      <td>152</td>\n",
       "      <td>Sodium plasma</td>\n",
       "      <td>NAPL</td>\n",
       "      <td>mmol/L</td>\n",
       "      <td>143.100000</td>\n",
       "      <td>2004-10-19</td>\n",
       "      <td>04:17</td>\n",
       "      <td>Wilbur, Kurra</td>\n",
       "      <td>2004</td>\n",
       "    </tr>\n",
       "    <tr>\n",
       "      <th>1</th>\n",
       "      <td>1008</td>\n",
       "      <td>2004-09-02</td>\n",
       "      <td>07:49</td>\n",
       "      <td>2005-02-01</td>\n",
       "      <td>10:07</td>\n",
       "      <td>St. Michael's Hospital</td>\n",
       "      <td>M</td>\n",
       "      <td>58.0</td>\n",
       "      <td>0</td>\n",
       "      <td>152</td>\n",
       "      <td>Urea plasma</td>\n",
       "      <td>UREAPL</td>\n",
       "      <td>mmol/L</td>\n",
       "      <td>13.000000</td>\n",
       "      <td>2004-11-05</td>\n",
       "      <td>13:58</td>\n",
       "      <td>PREMOVICH, TAYLOR</td>\n",
       "      <td>2004</td>\n",
       "    </tr>\n",
       "    <tr>\n",
       "      <th>2</th>\n",
       "      <td>1009</td>\n",
       "      <td>2011-01-01</td>\n",
       "      <td>17:08</td>\n",
       "      <td>2011-06-26</td>\n",
       "      <td>08:16</td>\n",
       "      <td>St. Michael's Hospital</td>\n",
       "      <td>NaN</td>\n",
       "      <td>NaN</td>\n",
       "      <td>1</td>\n",
       "      <td>176</td>\n",
       "      <td>Sodium plasma</td>\n",
       "      <td>NAPL</td>\n",
       "      <td>mmol/L</td>\n",
       "      <td>145.700000</td>\n",
       "      <td>2011-04-25</td>\n",
       "      <td>21:51</td>\n",
       "      <td>Ivojevic, Alexandra</td>\n",
       "      <td>2011</td>\n",
       "    </tr>\n",
       "  </tbody>\n",
       "</table>\n",
       "</div>"
      ],
      "text/plain": [
       "     ID admission_date admission_time discharge_date discharge_time  \\\n",
       "0  1003     2002-04-25          07:47     2002-05-08          12:02   \n",
       "0  1003     2002-04-25          07:47     2002-05-08          12:02   \n",
       "1  1008     2004-09-02          07:49     2005-02-01          10:07   \n",
       "1  1008     2004-09-02          07:49     2005-02-01          10:07   \n",
       "2  1009     2011-01-01          17:08     2011-06-26          08:16   \n",
       "\n",
       "                  hospital_ID gender   age  disease_status  length_of_stay  \\\n",
       "0  St. Joseph's Health Centre      F   NaN               0              13   \n",
       "0  St. Joseph's Health Centre      F   NaN               0              13   \n",
       "1      St. Michael's Hospital      M  58.0               0             152   \n",
       "1      St. Michael's Hospital      M  58.0               0             152   \n",
       "2      St. Michael's Hospital    NaN   NaN               1             176   \n",
       "\n",
       "           test_name test_code result_unit  result_value result_date  \\\n",
       "0      Sodium plasma      NAPL      mmol/L    134.846264  2002-05-07   \n",
       "0  Creatinine plasma    CREAPL      umol/L    323.499742  2002-05-02   \n",
       "1      Sodium plasma      NAPL      mmol/L    143.100000  2004-10-19   \n",
       "1        Urea plasma    UREAPL      mmol/L     13.000000  2004-11-05   \n",
       "2      Sodium plasma      NAPL      mmol/L    145.700000  2011-04-25   \n",
       "\n",
       "  result_time        provider_name  result_year  \n",
       "0       05:26          Wray, Jamie         2002  \n",
       "0       02:02      Young, Jennifer         2002  \n",
       "1       04:17        Wilbur, Kurra         2004  \n",
       "1       13:58    PREMOVICH, TAYLOR         2004  \n",
       "2       21:51  Ivojevic, Alexandra         2011  "
      ]
     },
     "execution_count": 30,
     "metadata": {},
     "output_type": "execute_result"
    }
   ],
   "source": [
    "lab_impute.head(5)"
   ]
  },
  {
   "cell_type": "code",
   "execution_count": 31,
   "metadata": {},
   "outputs": [
    {
     "data": {
      "text/plain": [
       "test_name\n",
       "Bicarbonate plasma     56.530405\n",
       "Chloride plasma       130.503859\n",
       "Creatinine plasma     323.499742\n",
       "Potassium plasma        6.322656\n",
       "Sodium plasma         134.846264\n",
       "Urea plasma            75.044647\n",
       "Name: result_value, dtype: float64"
      ]
     },
     "execution_count": 31,
     "metadata": {},
     "output_type": "execute_result"
    }
   ],
   "source": [
    "result_values_updated_mean=lab_impute.groupby([\"test_name\"]).mean()[\"result_value\"]\n",
    "result_values_updated_mean"
   ]
  },
  {
   "cell_type": "markdown",
   "metadata": {},
   "source": [
    "# Find spesific names in providers names"
   ]
  },
  {
   "cell_type": "markdown",
   "metadata": {},
   "source": [
    "For the lab data, find rows where the provider_name contains “Jessica” or “Kelsey”. "
   ]
  },
  {
   "cell_type": "code",
   "execution_count": 32,
   "metadata": {},
   "outputs": [
    {
     "data": {
      "text/html": [
       "<div>\n",
       "<style scoped>\n",
       "    .dataframe tbody tr th:only-of-type {\n",
       "        vertical-align: middle;\n",
       "    }\n",
       "\n",
       "    .dataframe tbody tr th {\n",
       "        vertical-align: top;\n",
       "    }\n",
       "\n",
       "    .dataframe thead th {\n",
       "        text-align: right;\n",
       "    }\n",
       "</style>\n",
       "<table border=\"1\" class=\"dataframe\">\n",
       "  <thead>\n",
       "    <tr style=\"text-align: right;\">\n",
       "      <th></th>\n",
       "      <th>ID</th>\n",
       "      <th>test_name</th>\n",
       "      <th>test_code</th>\n",
       "      <th>result_unit</th>\n",
       "      <th>result_value</th>\n",
       "      <th>result_date</th>\n",
       "      <th>result_time</th>\n",
       "      <th>provider_name</th>\n",
       "    </tr>\n",
       "  </thead>\n",
       "  <tbody>\n",
       "    <tr>\n",
       "      <th>0</th>\n",
       "      <td>1003</td>\n",
       "      <td>Sodium plasma</td>\n",
       "      <td>NAPL</td>\n",
       "      <td>mmol/L</td>\n",
       "      <td>137.0</td>\n",
       "      <td>2002-05-07</td>\n",
       "      <td>05:26</td>\n",
       "      <td>Wray, Jamie</td>\n",
       "    </tr>\n",
       "    <tr>\n",
       "      <th>1</th>\n",
       "      <td>1003</td>\n",
       "      <td>Creatinine plasma</td>\n",
       "      <td>CREAPL</td>\n",
       "      <td>umol/L</td>\n",
       "      <td>537.0</td>\n",
       "      <td>2002-05-02</td>\n",
       "      <td>02:02</td>\n",
       "      <td>Young, Jennifer</td>\n",
       "    </tr>\n",
       "    <tr>\n",
       "      <th>2</th>\n",
       "      <td>1005</td>\n",
       "      <td>Urea plasma</td>\n",
       "      <td>UREAPL</td>\n",
       "      <td>mmol/L</td>\n",
       "      <td>37.3</td>\n",
       "      <td>2005-12-04</td>\n",
       "      <td>16:02</td>\n",
       "      <td>Glass, Caitlin</td>\n",
       "    </tr>\n",
       "    <tr>\n",
       "      <th>3</th>\n",
       "      <td>1008</td>\n",
       "      <td>Sodium plasma</td>\n",
       "      <td>NAPL</td>\n",
       "      <td>mmol/L</td>\n",
       "      <td>143.1</td>\n",
       "      <td>2004-10-19</td>\n",
       "      <td>04:17</td>\n",
       "      <td>Wilbur, Kurra</td>\n",
       "    </tr>\n",
       "    <tr>\n",
       "      <th>4</th>\n",
       "      <td>1008</td>\n",
       "      <td>Urea plasma</td>\n",
       "      <td>UREAPL</td>\n",
       "      <td>mmol/L</td>\n",
       "      <td>13.0</td>\n",
       "      <td>2004-11-05</td>\n",
       "      <td>13:58</td>\n",
       "      <td>PREMOVICH, TAYLOR</td>\n",
       "    </tr>\n",
       "  </tbody>\n",
       "</table>\n",
       "</div>"
      ],
      "text/plain": [
       "     ID          test_name test_code result_unit  result_value result_date  \\\n",
       "0  1003      Sodium plasma      NAPL      mmol/L         137.0  2002-05-07   \n",
       "1  1003  Creatinine plasma    CREAPL      umol/L         537.0  2002-05-02   \n",
       "2  1005        Urea plasma    UREAPL      mmol/L          37.3  2005-12-04   \n",
       "3  1008      Sodium plasma      NAPL      mmol/L         143.1  2004-10-19   \n",
       "4  1008        Urea plasma    UREAPL      mmol/L          13.0  2004-11-05   \n",
       "\n",
       "  result_time      provider_name  \n",
       "0       05:26        Wray, Jamie  \n",
       "1       02:02    Young, Jennifer  \n",
       "2       16:02     Glass, Caitlin  \n",
       "3       04:17      Wilbur, Kurra  \n",
       "4       13:58  PREMOVICH, TAYLOR  "
      ]
     },
     "execution_count": 32,
     "metadata": {},
     "output_type": "execute_result"
    }
   ],
   "source": [
    "lab.head(5)"
   ]
  },
  {
   "cell_type": "code",
   "execution_count": 33,
   "metadata": {},
   "outputs": [],
   "source": [
    "lab_identified = lab[lab[\"provider_name\"].str.contains('Jessica|Kelsey', flags=re.I, regex=True)]"
   ]
  },
  {
   "cell_type": "code",
   "execution_count": 34,
   "metadata": {},
   "outputs": [
    {
     "data": {
      "text/html": [
       "<div>\n",
       "<style scoped>\n",
       "    .dataframe tbody tr th:only-of-type {\n",
       "        vertical-align: middle;\n",
       "    }\n",
       "\n",
       "    .dataframe tbody tr th {\n",
       "        vertical-align: top;\n",
       "    }\n",
       "\n",
       "    .dataframe thead th {\n",
       "        text-align: right;\n",
       "    }\n",
       "</style>\n",
       "<table border=\"1\" class=\"dataframe\">\n",
       "  <thead>\n",
       "    <tr style=\"text-align: right;\">\n",
       "      <th></th>\n",
       "      <th>ID</th>\n",
       "      <th>test_name</th>\n",
       "      <th>test_code</th>\n",
       "      <th>result_unit</th>\n",
       "      <th>result_value</th>\n",
       "      <th>result_date</th>\n",
       "      <th>result_time</th>\n",
       "      <th>provider_name</th>\n",
       "    </tr>\n",
       "  </thead>\n",
       "  <tbody>\n",
       "    <tr>\n",
       "      <th>27</th>\n",
       "      <td>1071</td>\n",
       "      <td>Sodium plasma</td>\n",
       "      <td>NAPL</td>\n",
       "      <td>mmol/L</td>\n",
       "      <td>141.5</td>\n",
       "      <td>2009-07-10</td>\n",
       "      <td>12:31</td>\n",
       "      <td>Wright, Kelsey</td>\n",
       "    </tr>\n",
       "    <tr>\n",
       "      <th>42</th>\n",
       "      <td>1127</td>\n",
       "      <td>Bicarbonate plasma</td>\n",
       "      <td>TCO2PL</td>\n",
       "      <td>mmol/L</td>\n",
       "      <td>60.4</td>\n",
       "      <td>2001-11-14</td>\n",
       "      <td>01:46</td>\n",
       "      <td>Welch, Jessica</td>\n",
       "    </tr>\n",
       "    <tr>\n",
       "      <th>46</th>\n",
       "      <td>1143</td>\n",
       "      <td>Sodium plasma</td>\n",
       "      <td>NAPL</td>\n",
       "      <td>mmol/L</td>\n",
       "      <td>121.2</td>\n",
       "      <td>2006-05-01</td>\n",
       "      <td>08:27</td>\n",
       "      <td>Griffen, Jessica</td>\n",
       "    </tr>\n",
       "    <tr>\n",
       "      <th>177</th>\n",
       "      <td>1620</td>\n",
       "      <td>Sodium plasma</td>\n",
       "      <td>NAPL</td>\n",
       "      <td>mmol/L</td>\n",
       "      <td>129.4</td>\n",
       "      <td>2004-09-15</td>\n",
       "      <td>01:49</td>\n",
       "      <td>Macoy, Kelsey</td>\n",
       "    </tr>\n",
       "    <tr>\n",
       "      <th>301</th>\n",
       "      <td>2059</td>\n",
       "      <td>Creatinine plasma</td>\n",
       "      <td>CREAPL</td>\n",
       "      <td>umol/L</td>\n",
       "      <td>231.4</td>\n",
       "      <td>2002-08-07</td>\n",
       "      <td>17:45</td>\n",
       "      <td>Costello, Jessica</td>\n",
       "    </tr>\n",
       "  </tbody>\n",
       "</table>\n",
       "</div>"
      ],
      "text/plain": [
       "       ID           test_name test_code result_unit  result_value result_date  \\\n",
       "27   1071       Sodium plasma      NAPL      mmol/L         141.5  2009-07-10   \n",
       "42   1127  Bicarbonate plasma    TCO2PL      mmol/L          60.4  2001-11-14   \n",
       "46   1143       Sodium plasma      NAPL      mmol/L         121.2  2006-05-01   \n",
       "177  1620       Sodium plasma      NAPL      mmol/L         129.4  2004-09-15   \n",
       "301  2059   Creatinine plasma    CREAPL      umol/L         231.4  2002-08-07   \n",
       "\n",
       "    result_time      provider_name  \n",
       "27        12:31     Wright, Kelsey  \n",
       "42        01:46     Welch, Jessica  \n",
       "46        08:27   Griffen, Jessica  \n",
       "177       01:49      Macoy, Kelsey  \n",
       "301       17:45  Costello, Jessica  "
      ]
     },
     "execution_count": 34,
     "metadata": {},
     "output_type": "execute_result"
    }
   ],
   "source": [
    "lab_identified.head(5)"
   ]
  },
  {
   "cell_type": "code",
   "execution_count": 35,
   "metadata": {},
   "outputs": [
    {
     "data": {
      "text/plain": [
       "test_code\n",
       "CLPL      124.740000\n",
       "CREAPL    324.425000\n",
       "KPL         4.855556\n",
       "NAPL      133.074194\n",
       "TCO2PL     55.209091\n",
       "UREAPL     91.127273\n",
       "Name: result_value, dtype: float64"
      ]
     },
     "execution_count": 35,
     "metadata": {},
     "output_type": "execute_result"
    }
   ],
   "source": [
    "lab_identified.groupby([\"test_code\"]).mean()[\"result_value\"]"
   ]
  },
  {
   "cell_type": "markdown",
   "metadata": {},
   "source": [
    "# Create a function to compute the mean test result_value from  test_code and hospital_ID"
   ]
  },
  {
   "cell_type": "code",
   "execution_count": 36,
   "metadata": {},
   "outputs": [],
   "source": [
    "def compute_hospital_mean(test_code_identified, hospital_ID_identified):\n",
    "    df_new = all_lab.loc[(all_lab[\"test_code\"]==test_code_identified)&(all_lab[\"hospital_ID\"]==hospital_ID_identified)]\n",
    "    return df_new.mean()[\"result_value\"]"
   ]
  },
  {
   "cell_type": "markdown",
   "metadata": {},
   "source": [
    "Check the result for test_code = KPL and hospital_ID = St. Michael’s Hospital"
   ]
  },
  {
   "cell_type": "code",
   "execution_count": 37,
   "metadata": {},
   "outputs": [
    {
     "data": {
      "text/plain": [
       "6.373599999999998"
      ]
     },
     "execution_count": 37,
     "metadata": {},
     "output_type": "execute_result"
    }
   ],
   "source": [
    "compute_hospital_mean(\"KPL\", \"St. Michael's Hospital\")"
   ]
  },
  {
   "cell_type": "markdown",
   "metadata": {},
   "source": [
    "# run a regression model and try to see if we camn predict disease_status from all feature"
   ]
  },
  {
   "cell_type": "code",
   "execution_count": 38,
   "metadata": {},
   "outputs": [
    {
     "data": {
      "text/plain": [
       "Index(['ID', 'admission_date', 'admission_time', 'discharge_date',\n",
       "       'discharge_time', 'hospital_ID', 'gender', 'age', 'disease_status',\n",
       "       'length_of_stay'],\n",
       "      dtype='object')"
      ]
     },
     "execution_count": 38,
     "metadata": {},
     "output_type": "execute_result"
    }
   ],
   "source": [
    "admin.columns"
   ]
  },
  {
   "cell_type": "code",
   "execution_count": 39,
   "metadata": {},
   "outputs": [
    {
     "data": {
      "text/plain": [
       "ID                  0\n",
       "admission_date      0\n",
       "admission_time      0\n",
       "discharge_date      0\n",
       "discharge_time      0\n",
       "hospital_ID         0\n",
       "gender            300\n",
       "age               400\n",
       "disease_status      0\n",
       "length_of_stay      0\n",
       "dtype: int64"
      ]
     },
     "execution_count": 39,
     "metadata": {},
     "output_type": "execute_result"
    }
   ],
   "source": [
    "admin.isna().sum()"
   ]
  },
  {
   "cell_type": "code",
   "execution_count": 40,
   "metadata": {},
   "outputs": [],
   "source": [
    "admin_cleaned = admin.dropna()"
   ]
  },
  {
   "cell_type": "code",
   "execution_count": 41,
   "metadata": {},
   "outputs": [
    {
     "data": {
      "text/plain": [
       "ID                0\n",
       "admission_date    0\n",
       "admission_time    0\n",
       "discharge_date    0\n",
       "discharge_time    0\n",
       "hospital_ID       0\n",
       "gender            0\n",
       "age               0\n",
       "disease_status    0\n",
       "length_of_stay    0\n",
       "dtype: int64"
      ]
     },
     "execution_count": 41,
     "metadata": {},
     "output_type": "execute_result"
    }
   ],
   "source": [
    "admin_cleaned.isna().sum()"
   ]
  },
  {
   "cell_type": "code",
   "execution_count": 42,
   "metadata": {},
   "outputs": [
    {
     "data": {
      "text/html": [
       "<div>\n",
       "<style scoped>\n",
       "    .dataframe tbody tr th:only-of-type {\n",
       "        vertical-align: middle;\n",
       "    }\n",
       "\n",
       "    .dataframe tbody tr th {\n",
       "        vertical-align: top;\n",
       "    }\n",
       "\n",
       "    .dataframe thead th {\n",
       "        text-align: right;\n",
       "    }\n",
       "</style>\n",
       "<table border=\"1\" class=\"dataframe\">\n",
       "  <thead>\n",
       "    <tr style=\"text-align: right;\">\n",
       "      <th></th>\n",
       "      <th>ID</th>\n",
       "      <th>admission_date</th>\n",
       "      <th>admission_time</th>\n",
       "      <th>discharge_date</th>\n",
       "      <th>discharge_time</th>\n",
       "      <th>hospital_ID</th>\n",
       "      <th>gender</th>\n",
       "      <th>age</th>\n",
       "      <th>disease_status</th>\n",
       "      <th>length_of_stay</th>\n",
       "    </tr>\n",
       "  </thead>\n",
       "  <tbody>\n",
       "    <tr>\n",
       "      <th>1</th>\n",
       "      <td>1008</td>\n",
       "      <td>2004-09-02</td>\n",
       "      <td>07:49</td>\n",
       "      <td>2005-02-01</td>\n",
       "      <td>10:07</td>\n",
       "      <td>St. Michael's Hospital</td>\n",
       "      <td>M</td>\n",
       "      <td>58.0</td>\n",
       "      <td>0</td>\n",
       "      <td>152</td>\n",
       "    </tr>\n",
       "    <tr>\n",
       "      <th>4</th>\n",
       "      <td>1030</td>\n",
       "      <td>2003-11-18</td>\n",
       "      <td>08:31</td>\n",
       "      <td>2004-01-28</td>\n",
       "      <td>13:21</td>\n",
       "      <td>St. Michael's Hospital</td>\n",
       "      <td>F</td>\n",
       "      <td>72.0</td>\n",
       "      <td>0</td>\n",
       "      <td>71</td>\n",
       "    </tr>\n",
       "    <tr>\n",
       "      <th>5</th>\n",
       "      <td>1031</td>\n",
       "      <td>2008-09-11</td>\n",
       "      <td>12:09</td>\n",
       "      <td>2009-01-11</td>\n",
       "      <td>01:47</td>\n",
       "      <td>St. Michael's Hospital</td>\n",
       "      <td>F</td>\n",
       "      <td>54.0</td>\n",
       "      <td>1</td>\n",
       "      <td>122</td>\n",
       "    </tr>\n",
       "    <tr>\n",
       "      <th>6</th>\n",
       "      <td>1036</td>\n",
       "      <td>2000-08-20</td>\n",
       "      <td>19:05</td>\n",
       "      <td>2000-12-31</td>\n",
       "      <td>07:24</td>\n",
       "      <td>St. Michael's Hospital</td>\n",
       "      <td>F</td>\n",
       "      <td>42.0</td>\n",
       "      <td>1</td>\n",
       "      <td>133</td>\n",
       "    </tr>\n",
       "    <tr>\n",
       "      <th>7</th>\n",
       "      <td>1037</td>\n",
       "      <td>2013-10-15</td>\n",
       "      <td>05:11</td>\n",
       "      <td>2013-11-07</td>\n",
       "      <td>13:54</td>\n",
       "      <td>St. Michael's Hospital</td>\n",
       "      <td>F</td>\n",
       "      <td>48.0</td>\n",
       "      <td>1</td>\n",
       "      <td>23</td>\n",
       "    </tr>\n",
       "  </tbody>\n",
       "</table>\n",
       "</div>"
      ],
      "text/plain": [
       "     ID admission_date admission_time discharge_date discharge_time  \\\n",
       "1  1008     2004-09-02          07:49     2005-02-01          10:07   \n",
       "4  1030     2003-11-18          08:31     2004-01-28          13:21   \n",
       "5  1031     2008-09-11          12:09     2009-01-11          01:47   \n",
       "6  1036     2000-08-20          19:05     2000-12-31          07:24   \n",
       "7  1037     2013-10-15          05:11     2013-11-07          13:54   \n",
       "\n",
       "              hospital_ID gender   age  disease_status  length_of_stay  \n",
       "1  St. Michael's Hospital      M  58.0               0             152  \n",
       "4  St. Michael's Hospital      F  72.0               0              71  \n",
       "5  St. Michael's Hospital      F  54.0               1             122  \n",
       "6  St. Michael's Hospital      F  42.0               1             133  \n",
       "7  St. Michael's Hospital      F  48.0               1              23  "
      ]
     },
     "execution_count": 42,
     "metadata": {},
     "output_type": "execute_result"
    }
   ],
   "source": [
    "admin_cleaned.head()"
   ]
  },
  {
   "cell_type": "code",
   "execution_count": 90,
   "metadata": {},
   "outputs": [
    {
     "data": {
      "text/html": [
       "<div>\n",
       "<style scoped>\n",
       "    .dataframe tbody tr th:only-of-type {\n",
       "        vertical-align: middle;\n",
       "    }\n",
       "\n",
       "    .dataframe tbody tr th {\n",
       "        vertical-align: top;\n",
       "    }\n",
       "\n",
       "    .dataframe thead th {\n",
       "        text-align: right;\n",
       "    }\n",
       "</style>\n",
       "<table border=\"1\" class=\"dataframe\">\n",
       "  <thead>\n",
       "    <tr style=\"text-align: right;\">\n",
       "      <th></th>\n",
       "      <th>age</th>\n",
       "      <th>gender</th>\n",
       "      <th>hospital_ID</th>\n",
       "    </tr>\n",
       "  </thead>\n",
       "  <tbody>\n",
       "    <tr>\n",
       "      <th>1</th>\n",
       "      <td>58.0</td>\n",
       "      <td>M</td>\n",
       "      <td>St. Michael's Hospital</td>\n",
       "    </tr>\n",
       "    <tr>\n",
       "      <th>4</th>\n",
       "      <td>72.0</td>\n",
       "      <td>F</td>\n",
       "      <td>St. Michael's Hospital</td>\n",
       "    </tr>\n",
       "    <tr>\n",
       "      <th>5</th>\n",
       "      <td>54.0</td>\n",
       "      <td>F</td>\n",
       "      <td>St. Michael's Hospital</td>\n",
       "    </tr>\n",
       "    <tr>\n",
       "      <th>6</th>\n",
       "      <td>42.0</td>\n",
       "      <td>F</td>\n",
       "      <td>St. Michael's Hospital</td>\n",
       "    </tr>\n",
       "    <tr>\n",
       "      <th>7</th>\n",
       "      <td>48.0</td>\n",
       "      <td>F</td>\n",
       "      <td>St. Michael's Hospital</td>\n",
       "    </tr>\n",
       "  </tbody>\n",
       "</table>\n",
       "</div>"
      ],
      "text/plain": [
       "    age gender             hospital_ID\n",
       "1  58.0      M  St. Michael's Hospital\n",
       "4  72.0      F  St. Michael's Hospital\n",
       "5  54.0      F  St. Michael's Hospital\n",
       "6  42.0      F  St. Michael's Hospital\n",
       "7  48.0      F  St. Michael's Hospital"
      ]
     },
     "execution_count": 90,
     "metadata": {},
     "output_type": "execute_result"
    }
   ],
   "source": [
    "# create a Python list of feature names\n",
    "feature_cols = ['age', 'gender','hospital_ID']\n",
    "\n",
    "# use the list to select a subset of the original DataFrame\n",
    "X = admin_cleaned[feature_cols]\n",
    "\n",
    "# print the first 5 rows\n",
    "X.head(5)"
   ]
  },
  {
   "cell_type": "code",
   "execution_count": 91,
   "metadata": {},
   "outputs": [
    {
     "data": {
      "text/plain": [
       "1    0\n",
       "4    0\n",
       "5    1\n",
       "6    1\n",
       "7    1\n",
       "Name: disease_status, dtype: int64"
      ]
     },
     "execution_count": 91,
     "metadata": {},
     "output_type": "execute_result"
    }
   ],
   "source": [
    "# select a Series from the DataFrame\n",
    "y = admin_cleaned['disease_status']\n",
    "\n",
    "# print the first 5 values\n",
    "y.head(5)"
   ]
  },
  {
   "cell_type": "code",
   "execution_count": 92,
   "metadata": {},
   "outputs": [],
   "source": [
    "# dummy encoding of categorical features\n",
    "from sklearn.preprocessing import OneHotEncoder\n",
    "ohe = OneHotEncoder(sparse=False)"
   ]
  },
  {
   "cell_type": "code",
   "execution_count": 93,
   "metadata": {},
   "outputs": [
    {
     "data": {
      "text/plain": [
       "array([[0., 1., 0., ..., 1., 0., 0.],\n",
       "       [1., 0., 0., ..., 1., 0., 0.],\n",
       "       [1., 0., 0., ..., 1., 0., 0.],\n",
       "       ...,\n",
       "       [0., 1., 0., ..., 0., 1., 0.],\n",
       "       [0., 1., 0., ..., 0., 1., 0.],\n",
       "       [0., 1., 0., ..., 0., 1., 0.]])"
      ]
     },
     "execution_count": 93,
     "metadata": {},
     "output_type": "execute_result"
    }
   ],
   "source": [
    "ohe.fit_transform(admin_cleaned[['gender','hospital_ID']])"
   ]
  },
  {
   "cell_type": "code",
   "execution_count": 94,
   "metadata": {},
   "outputs": [
    {
     "data": {
      "text/plain": [
       "[array(['F', 'M'], dtype=object),\n",
       " array(['Mount Sinai Hospital', \"St. Joseph's Health Centre\",\n",
       "        \"St. Michael's Hospital\", 'Sunnybrook Health Sciences Centre',\n",
       "        'Toronto Western Hospital'], dtype=object)]"
      ]
     },
     "execution_count": 94,
     "metadata": {},
     "output_type": "execute_result"
    }
   ],
   "source": [
    "ohe.categories_"
   ]
  },
  {
   "cell_type": "code",
   "execution_count": 95,
   "metadata": {},
   "outputs": [],
   "source": [
    "# use when different features need different preprocessing\n",
    "from sklearn.compose import make_column_transformer"
   ]
  },
  {
   "cell_type": "code",
   "execution_count": 96,
   "metadata": {},
   "outputs": [],
   "source": [
    "column_trans = make_column_transformer(\n",
    "    (OneHotEncoder(), ['gender','hospital_ID']),\n",
    "    remainder='passthrough')"
   ]
  },
  {
   "cell_type": "code",
   "execution_count": 97,
   "metadata": {},
   "outputs": [
    {
     "data": {
      "text/plain": [
       "array([[ 0.,  1.,  0., ...,  0.,  0., 58.],\n",
       "       [ 1.,  0.,  0., ...,  0.,  0., 72.],\n",
       "       [ 1.,  0.,  0., ...,  0.,  0., 54.],\n",
       "       ...,\n",
       "       [ 0.,  1.,  0., ...,  1.,  0., 46.],\n",
       "       [ 0.,  1.,  0., ...,  1.,  0., 84.],\n",
       "       [ 0.,  1.,  0., ...,  1.,  0., 58.]])"
      ]
     },
     "execution_count": 97,
     "metadata": {},
     "output_type": "execute_result"
    }
   ],
   "source": [
    "column_trans.fit_transform(X)"
   ]
  },
  {
   "cell_type": "code",
   "execution_count": 98,
   "metadata": {},
   "outputs": [],
   "source": [
    "from sklearn.linear_model import LogisticRegression\n",
    "logreg = LogisticRegression()"
   ]
  },
  {
   "cell_type": "code",
   "execution_count": 99,
   "metadata": {},
   "outputs": [],
   "source": [
    "# chain sequential steps together\n",
    "from sklearn.pipeline import make_pipeline\n",
    "\n",
    "pipe = make_pipeline(column_trans, logreg)"
   ]
  },
  {
   "cell_type": "code",
   "execution_count": 100,
   "metadata": {},
   "outputs": [
    {
     "name": "stdout",
     "output_type": "stream",
     "text": [
      "Accuracies in each fold: \n",
      " [0.47101449 0.47445255 0.46715328 0.5620438  0.60583942 0.54744526\n",
      " 0.51094891 0.51824818 0.51094891 0.52554745]\n",
      "Average Accuracy across the folds: 0.52\n"
     ]
    }
   ],
   "source": [
    "from sklearn.model_selection import cross_val_score\n",
    "# cross-validate the entire process\n",
    "# thus, preprocessing occurs within each fold of cross-validation\n",
    "scores = cross_val_score(pipe, X, y, cv=10, scoring='accuracy')\n",
    "\n",
    "# performance in each fold\n",
    "print(\"Accuracies in each fold: \\n\" , scores)\n",
    "# average performance across all folds\n",
    "print(\"Average Accuracy across the folds: %0.2f\" % (scores.mean()))"
   ]
  },
  {
   "cell_type": "markdown",
   "metadata": {},
   "source": [
    "# Splitting X and y into training and testing sets"
   ]
  },
  {
   "cell_type": "code",
   "execution_count": 101,
   "metadata": {},
   "outputs": [],
   "source": [
    "from sklearn.model_selection import train_test_split\n",
    "\n",
    "X_train, X_test, y_train, y_test = train_test_split(X, y, test_size=0.30, random_state=5)"
   ]
  },
  {
   "cell_type": "code",
   "execution_count": 102,
   "metadata": {},
   "outputs": [
    {
     "name": "stdout",
     "output_type": "stream",
     "text": [
      "(959, 3)\n",
      "(959,)\n",
      "(412, 3)\n",
      "(412,)\n"
     ]
    }
   ],
   "source": [
    "print(X_train.shape)\n",
    "print(y_train.shape)\n",
    "print(X_test.shape)\n",
    "print(y_test.shape)"
   ]
  },
  {
   "cell_type": "code",
   "execution_count": 103,
   "metadata": {},
   "outputs": [
    {
     "data": {
      "text/plain": [
       "Pipeline(memory=None,\n",
       "         steps=[('columntransformer',\n",
       "                 ColumnTransformer(n_jobs=None, remainder='passthrough',\n",
       "                                   sparse_threshold=0.3,\n",
       "                                   transformer_weights=None,\n",
       "                                   transformers=[('onehotencoder',\n",
       "                                                  OneHotEncoder(categories='auto',\n",
       "                                                                drop=None,\n",
       "                                                                dtype=<class 'numpy.float64'>,\n",
       "                                                                handle_unknown='error',\n",
       "                                                                sparse=True),\n",
       "                                                  ['gender', 'hospital_ID'])],\n",
       "                                   verbose=False)),\n",
       "                ('logisticregression',\n",
       "                 LogisticRegression(C=1.0, class_weight=None, dual=False,\n",
       "                                    fit_intercept=True, intercept_scaling=1,\n",
       "                                    l1_ratio=None, max_iter=100,\n",
       "                                    multi_class='auto', n_jobs=None,\n",
       "                                    penalty='l2', random_state=None,\n",
       "                                    solver='lbfgs', tol=0.0001, verbose=0,\n",
       "                                    warm_start=False))],\n",
       "         verbose=False)"
      ]
     },
     "execution_count": 103,
     "metadata": {},
     "output_type": "execute_result"
    }
   ],
   "source": [
    "from sklearn.linear_model import LogisticRegression \n",
    "\n",
    "# Create logistic regression object\n",
    "logreg = LogisticRegression()\n",
    "\n",
    "# Train the model using the training sets\n",
    "pipe.fit(X_train, y_train)"
   ]
  },
  {
   "cell_type": "code",
   "execution_count": 104,
   "metadata": {},
   "outputs": [],
   "source": [
    "# Make predictions using the testing set\n",
    "y_pred = pipe.predict(X_test)"
   ]
  },
  {
   "cell_type": "code",
   "execution_count": 105,
   "metadata": {},
   "outputs": [
    {
     "name": "stdout",
     "output_type": "stream",
     "text": [
      "accuracy of the predictions: 0.4854368932038835\n",
      "blanced accuracy of the predictions: 0.48688335258208215\n"
     ]
    }
   ],
   "source": [
    "from sklearn import metrics\n",
    "\n",
    "print(\"accuracy of the predictions:\", metrics.accuracy_score(y_test, y_pred))\n",
    "print(\"blanced accuracy of the predictions:\", metrics.balanced_accuracy_score(y_test, y_pred))"
   ]
  },
  {
   "cell_type": "code",
   "execution_count": 106,
   "metadata": {},
   "outputs": [],
   "source": [
    "# Make predictions using the testing set\n",
    "y_pred_train = pipe.predict(X_train)"
   ]
  },
  {
   "cell_type": "code",
   "execution_count": 107,
   "metadata": {},
   "outputs": [
    {
     "name": "stdout",
     "output_type": "stream",
     "text": [
      "accuracy of the predictions: 0.5620437956204379\n",
      "blanced accuracy of the predictions: 0.559831069313828\n"
     ]
    }
   ],
   "source": [
    "print(\"accuracy of the predictions:\", metrics.accuracy_score(y_train, y_pred_train))\n",
    "print(\"blanced accuracy of the predictions:\", metrics.balanced_accuracy_score(y_train, y_pred_train))"
   ]
  }
 ],
 "metadata": {
  "kernelspec": {
   "display_name": "Python 3",
   "language": "python",
   "name": "python3"
  },
  "language_info": {
   "codemirror_mode": {
    "name": "ipython",
    "version": 3
   },
   "file_extension": ".py",
   "mimetype": "text/x-python",
   "name": "python",
   "nbconvert_exporter": "python",
   "pygments_lexer": "ipython3",
   "version": "3.7.6"
  }
 },
 "nbformat": 4,
 "nbformat_minor": 4
}
